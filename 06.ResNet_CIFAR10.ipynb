{
 "cells": [
  {
   "cell_type": "code",
   "execution_count": 16,
   "metadata": {
    "collapsed": true
   },
   "outputs": [],
   "source": [
    "import torch\n",
    "import torch.nn as nn\n",
    "\n",
    "class BasicBlock(nn.Module):\n",
    "    def __init__(self, in_channels, out_channels, kernel_size=3):\n",
    "        super(BasicBlock, self).__init__()\n",
    "\n",
    "        self.c1 = nn.Conv2d(in_channels, out_channels, kernel_size=kernel_size, padding=1)\n",
    "        self.c2 = nn.Conv2d(out_channels, out_channels, kernel_size=kernel_size, padding=1)\n",
    "        self.downsample = nn.Conv2d(in_channels, out_channels, kernel_size=1)\n",
    "\n",
    "        self.bn1 = nn.BatchNorm2d(num_features=out_channels)\n",
    "        self.bn2 = nn.BatchNorm2d(num_features=out_channels)\n",
    "\n",
    "        self.relu = nn.ReLU()\n",
    "\n",
    "    def forward(self, x):\n",
    "        x_ = x\n",
    "\n",
    "        x = self.c1(x)\n",
    "        x = self.bn1(x)\n",
    "        x = self.relu(x)\n",
    "        x = self.c2(x)\n",
    "        x = self.bn2(x)\n",
    "\n",
    "        x_ = self.downsample(x_)\n",
    "\n",
    "        x += x_\n",
    "        x = self.relu(x)\n",
    "\n",
    "        return x"
   ]
  },
  {
   "cell_type": "code",
   "execution_count": 17,
   "outputs": [],
   "source": [
    "class ResNet(nn.Module):\n",
    "    def __init__(self, num_classes=10):\n",
    "        super(ResNet, self).__init__()\n",
    "\n",
    "        self.b1 = BasicBlock(in_channels=3, out_channels=64)\n",
    "        self.b2 = BasicBlock(in_channels=64, out_channels=128)\n",
    "        self.b3 = BasicBlock(in_channels=128, out_channels=256)\n",
    "\n",
    "        self.pool = nn.AvgPool2d(kernel_size=2, stride=2)\n",
    "\n",
    "        self.fc1 = nn.Linear(in_features=4096, out_features=2048)\n",
    "        self.fc2 = nn.Linear(in_features=2048, out_features=512)\n",
    "        self.fc3 = nn.Linear(in_features=512, out_features=num_classes)\n",
    "\n",
    "        self.relu = nn.ReLU()\n",
    "\n",
    "    def forward(self, x):\n",
    "        x = self.b1(x)\n",
    "        x = self.pool(x)\n",
    "        x = self.b2(x)\n",
    "        x = self.pool(x)\n",
    "        x = self.b3(x)\n",
    "        x = self.pool(x)\n",
    "\n",
    "        x = torch.flatten(x, start_dim=1)\n",
    "\n",
    "        x = self.fc1(x)\n",
    "        x = self.relu(x)\n",
    "        x = self.fc2(x)\n",
    "        x = self.relu(x)\n",
    "        x = self.fc3(x)\n",
    "\n",
    "        return x"
   ],
   "metadata": {
    "collapsed": false
   }
  },
  {
   "cell_type": "code",
   "execution_count": 18,
   "outputs": [],
   "source": [
    "import tqdm\n",
    "\n",
    "from torchvision.datasets.cifar import CIFAR10\n",
    "from torchvision.transforms import Compose, ToTensor, RandomHorizontalFlip, RandomCrop, Normalize\n",
    "from torch.utils.data.dataloader import DataLoader\n",
    "\n",
    "from torch.optim.adam import Adam\n",
    "\n",
    "transforms = Compose([\n",
    "    RandomCrop((32, 32), padding=4),\n",
    "    RandomHorizontalFlip(p=0.5),\n",
    "    ToTensor(),\n",
    "    Normalize(mean=(0.4914, 0.4822, 0.4465), std=(0.247, 0.243, 0.261))\n",
    "])"
   ],
   "metadata": {
    "collapsed": false
   }
  },
  {
   "cell_type": "code",
   "execution_count": 19,
   "outputs": [
    {
     "name": "stdout",
     "output_type": "stream",
     "text": [
      "Files already downloaded and verified\n",
      "Files already downloaded and verified\n"
     ]
    }
   ],
   "source": [
    "train_data = CIFAR10(root='./', train=True, download=True, transform=transforms)\n",
    "test_data = CIFAR10(root='./', train=False, download=True, transform=transforms)\n",
    "\n",
    "train_loader = DataLoader(train_data, batch_size=32, shuffle=True)\n",
    "test_loader = DataLoader(test_data, batch_size=32, shuffle=False)"
   ],
   "metadata": {
    "collapsed": false
   }
  },
  {
   "cell_type": "code",
   "execution_count": 23,
   "outputs": [
    {
     "data": {
      "text/plain": "ResNet(\n  (b1): BasicBlock(\n    (c1): Conv2d(3, 64, kernel_size=(3, 3), stride=(1, 1), padding=(1, 1))\n    (c2): Conv2d(64, 64, kernel_size=(3, 3), stride=(1, 1), padding=(1, 1))\n    (downsample): Conv2d(3, 64, kernel_size=(1, 1), stride=(1, 1))\n    (bn1): BatchNorm2d(64, eps=1e-05, momentum=0.1, affine=True, track_running_stats=True)\n    (bn2): BatchNorm2d(64, eps=1e-05, momentum=0.1, affine=True, track_running_stats=True)\n    (relu): ReLU()\n  )\n  (b2): BasicBlock(\n    (c1): Conv2d(64, 128, kernel_size=(3, 3), stride=(1, 1), padding=(1, 1))\n    (c2): Conv2d(128, 128, kernel_size=(3, 3), stride=(1, 1), padding=(1, 1))\n    (downsample): Conv2d(64, 128, kernel_size=(1, 1), stride=(1, 1))\n    (bn1): BatchNorm2d(128, eps=1e-05, momentum=0.1, affine=True, track_running_stats=True)\n    (bn2): BatchNorm2d(128, eps=1e-05, momentum=0.1, affine=True, track_running_stats=True)\n    (relu): ReLU()\n  )\n  (b3): BasicBlock(\n    (c1): Conv2d(128, 256, kernel_size=(3, 3), stride=(1, 1), padding=(1, 1))\n    (c2): Conv2d(256, 256, kernel_size=(3, 3), stride=(1, 1), padding=(1, 1))\n    (downsample): Conv2d(128, 256, kernel_size=(1, 1), stride=(1, 1))\n    (bn1): BatchNorm2d(256, eps=1e-05, momentum=0.1, affine=True, track_running_stats=True)\n    (bn2): BatchNorm2d(256, eps=1e-05, momentum=0.1, affine=True, track_running_stats=True)\n    (relu): ReLU()\n  )\n  (pool): AvgPool2d(kernel_size=2, stride=2, padding=0)\n  (fc1): Linear(in_features=4096, out_features=2048, bias=True)\n  (fc2): Linear(in_features=2048, out_features=512, bias=True)\n  (fc3): Linear(in_features=512, out_features=10, bias=True)\n  (relu): ReLU()\n)"
     },
     "execution_count": 23,
     "metadata": {},
     "output_type": "execute_result"
    }
   ],
   "source": [
    "device = 'mps' if torch.backends.mps.is_available() else 'cpu'\n",
    "model = ResNet(num_classes=10)\n",
    "model.to(device)"
   ],
   "metadata": {
    "collapsed": false
   }
  },
  {
   "cell_type": "code",
   "execution_count": 24,
   "outputs": [
    {
     "name": "stdout",
     "output_type": "stream",
     "text": [
      "mps\n"
     ]
    },
    {
     "name": "stderr",
     "output_type": "stream",
     "text": [
      "epoch: 1 loss: 1.0154582262039185: 100%|██████████| 1563/1563 [01:47<00:00, 14.56it/s]\n",
      "epoch: 2 loss: 1.363655686378479: 100%|██████████| 1563/1563 [01:43<00:00, 15.09it/s]  \n",
      "epoch: 3 loss: 1.117366075515747: 100%|██████████| 1563/1563 [01:42<00:00, 15.30it/s]  \n",
      "epoch: 4 loss: 0.6712335348129272: 100%|██████████| 1563/1563 [01:43<00:00, 15.15it/s] \n",
      "epoch: 5 loss: 0.5417609214782715: 100%|██████████| 1563/1563 [01:44<00:00, 14.90it/s] \n",
      "epoch: 6 loss: 0.5897611975669861: 100%|██████████| 1563/1563 [01:48<00:00, 14.36it/s] \n",
      "epoch: 7 loss: 0.4631498456001282: 100%|██████████| 1563/1563 [01:52<00:00, 13.92it/s] \n",
      "epoch: 8 loss: 0.21233727037906647: 100%|██████████| 1563/1563 [01:48<00:00, 14.47it/s]\n",
      "epoch: 9 loss: 0.4282088279724121: 100%|██████████| 1563/1563 [01:50<00:00, 14.21it/s] \n",
      "epoch: 10 loss: 0.42997655272483826: 100%|██████████| 1563/1563 [01:59<00:00, 13.05it/s]\n",
      "epoch: 11 loss: 0.2563115954399109: 100%|██████████| 1563/1563 [01:54<00:00, 13.71it/s]  \n",
      "epoch: 12 loss: 0.18935000896453857: 100%|██████████| 1563/1563 [01:49<00:00, 14.24it/s] \n",
      "epoch: 13 loss: 0.1529082953929901: 100%|██████████| 1563/1563 [01:51<00:00, 14.06it/s]  \n",
      "epoch: 14 loss: 0.19657345116138458: 100%|██████████| 1563/1563 [01:51<00:00, 14.04it/s] \n",
      "epoch: 15 loss: 0.5095653533935547: 100%|██████████| 1563/1563 [01:50<00:00, 14.14it/s]  \n",
      "epoch: 16 loss: 0.02140776440501213: 100%|██████████| 1563/1563 [01:50<00:00, 14.10it/s] \n",
      "epoch: 17 loss: 0.08087769150733948: 100%|██████████| 1563/1563 [01:51<00:00, 14.03it/s] \n",
      "epoch: 18 loss: 0.15604054927825928: 100%|██████████| 1563/1563 [01:51<00:00, 13.97it/s] \n",
      "epoch: 19 loss: 0.07115941494703293: 100%|██████████| 1563/1563 [01:51<00:00, 14.06it/s] \n",
      "epoch: 20 loss: 0.06437857449054718: 100%|██████████| 1563/1563 [01:52<00:00, 13.95it/s] \n",
      "epoch: 21 loss: 0.21316415071487427: 100%|██████████| 1563/1563 [01:51<00:00, 13.99it/s] \n",
      "epoch: 22 loss: 0.18881681561470032: 100%|██████████| 1563/1563 [01:51<00:00, 13.96it/s] \n",
      "epoch: 23 loss: 0.4907539188861847: 100%|██████████| 1563/1563 [01:52<00:00, 13.88it/s]  \n",
      "epoch: 24 loss: 0.06451307237148285: 100%|██████████| 1563/1563 [01:53<00:00, 13.83it/s]  \n",
      "epoch: 25 loss: 0.13790495693683624: 100%|██████████| 1563/1563 [01:52<00:00, 13.85it/s]  \n",
      "epoch: 26 loss: 0.009576892480254173: 100%|██████████| 1563/1563 [01:53<00:00, 13.77it/s] \n",
      "epoch: 27 loss: 0.1271996796131134: 100%|██████████| 1563/1563 [01:52<00:00, 13.95it/s]   \n",
      "epoch: 28 loss: 0.1732240468263626: 100%|██████████| 1563/1563 [01:41<00:00, 15.34it/s]   \n",
      "epoch: 29 loss: 0.07414048165082932: 100%|██████████| 1563/1563 [01:40<00:00, 15.60it/s]  \n",
      "epoch: 30 loss: 0.047864265739917755: 100%|██████████| 1563/1563 [01:40<00:00, 15.51it/s] \n"
     ]
    }
   ],
   "source": [
    "lr = 1e-4\n",
    "optim = Adam(model.parameters(), lr=lr)\n",
    "print(device)\n",
    "\n",
    "for epoch in range(30):\n",
    "    iterator = tqdm.tqdm(train_loader)\n",
    "    for data, label in iterator:\n",
    "        optim.zero_grad()\n",
    "\n",
    "        preds = model(data.to(device))\n",
    "\n",
    "        loss = nn.CrossEntropyLoss()(preds, label.to(device))\n",
    "        loss.backward()\n",
    "        optim.step()\n",
    "\n",
    "        iterator.set_description(f'epoch: {epoch+1} loss: {loss.item()}')\n",
    "torch.save(model.state_dict(), 'ResNet.pth')"
   ],
   "metadata": {
    "collapsed": false
   }
  },
  {
   "cell_type": "code",
   "execution_count": 27,
   "outputs": [
    {
     "name": "stdout",
     "output_type": "stream",
     "text": [
      "Accuracy: 0.8831\n"
     ]
    }
   ],
   "source": [
    "model.load_state_dict(torch.load('ResNet.pth', map_location=device))\n",
    "\n",
    "num_corr = 0\n",
    "\n",
    "with torch.no_grad():\n",
    "    for data, label in test_loader:\n",
    "        output = model(data.to(device))\n",
    "        preds = output.data.max(1)[1]\n",
    "        corr = preds.eq(label.to(device).data).sum().item()\n",
    "        num_corr += corr\n",
    "\n",
    "    print(f'Accuracy: {num_corr / len(test_data)}')"
   ],
   "metadata": {
    "collapsed": false
   }
  },
  {
   "cell_type": "markdown",
   "source": [
    "vgg에 비해 resnet이 더 좋은 모델은 맞으나 사전 학습된 모델을 전이 학습하는 것이 성능이 더 뛰어나다"
   ],
   "metadata": {
    "collapsed": false
   }
  }
 ],
 "metadata": {
  "kernelspec": {
   "display_name": "Python 3",
   "language": "python",
   "name": "python3"
  },
  "language_info": {
   "codemirror_mode": {
    "name": "ipython",
    "version": 2
   },
   "file_extension": ".py",
   "mimetype": "text/x-python",
   "name": "python",
   "nbconvert_exporter": "python",
   "pygments_lexer": "ipython2",
   "version": "2.7.6"
  }
 },
 "nbformat": 4,
 "nbformat_minor": 0
}
