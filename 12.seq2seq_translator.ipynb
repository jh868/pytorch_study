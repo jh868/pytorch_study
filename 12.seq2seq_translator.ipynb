{
 "cells": [
  {
   "cell_type": "code",
   "execution_count": 1,
   "metadata": {
    "collapsed": true
   },
   "outputs": [
    {
     "name": "stdout",
     "output_type": "stream",
     "text": [
      "['go\\t가', 'hi\\t안녕', 'run\\t뛰어', 'run\\t뛰어', 'who\\t누구']\n"
     ]
    }
   ],
   "source": [
    "import string\n",
    "\n",
    "l = []\n",
    "\n",
    "with open('./kor-eng/kor.txt', 'r', encoding='utf-8') as f:\n",
    "    lines = f.read().split('\\n')\n",
    "\n",
    "    for i, line in enumerate(lines):\n",
    "        txt = ''.join(v for v in line if v not in string.punctuation).lower()\n",
    "        txt = txt.split('\\tccby')[0]\n",
    "\n",
    "        # print(i, txt.split('\\t')[0], txt.split('\\t')[1])\n",
    "        l.append(txt)\n",
    "\n",
    "print(l[:5])"
   ]
  },
  {
   "cell_type": "code",
   "execution_count": 2,
   "outputs": [],
   "source": [
    "import numpy as np\n",
    "import torch\n",
    "\n",
    "from torch.utils.data.dataset import Dataset\n",
    "\n",
    "def get_BOW(corpus):  # 문장들로부터 BOW를 만드는 함수\n",
    "    BOW = {'<SOS>':0, '<EOS>':1}  # <SOS> 토큰과 <EOS> 토큰 추가\n",
    "\n",
    "    for line in corpus:\n",
    "        for word in line.split():\n",
    "            if word not in BOW.keys():\n",
    "                BOW[word] = len(BOW.keys())\n",
    "\n",
    "    return BOW"
   ],
   "metadata": {
    "collapsed": false
   }
  },
  {
   "cell_type": "code",
   "execution_count": 3,
   "outputs": [],
   "source": [
    "class Eng2Kor(Dataset):\n",
    "    def __init__(self, pth2txt='./kor-eng/kor.txt'):\n",
    "        self.eng_corpus = []\n",
    "        self.kor_corpus = []\n",
    "\n",
    "        with open(pth2txt, 'r', encoding='utf-8') as f:\n",
    "            lines = f.read().split('\\n')\n",
    "            for line in lines:\n",
    "                txt = ''.join(v for v in line if v not in string.punctuation).lower()\n",
    "                txt = txt.split('\\tccby')[0]\n",
    "\n",
    "                engtxt = txt.split('\\t')[0]\n",
    "                kortxt = txt.split('\\t')[1]\n",
    "\n",
    "                if len(engtxt.split()) <= 10 and len(kortxt.split()) <= 10:\n",
    "                    self.eng_corpus.append(engtxt)\n",
    "                    self.kor_corpus.append(kortxt)\n",
    "\n",
    "        self.engBOW = get_BOW(self.eng_corpus)\n",
    "        self.korBOW = get_BOW(self.kor_corpus)\n",
    "\n",
    "    def gen_seq(self, line):\n",
    "        seq = line.split()\n",
    "        seq.append('<EOS>')\n",
    "\n",
    "        return seq\n",
    "\n",
    "    def __len__(self):\n",
    "        return len(self.eng_corpus)\n",
    "\n",
    "    def __getitem__(self, i):\n",
    "        data = np.array([self.engBOW[txt] for txt in self.gen_seq(self.eng_corpus[i])])\n",
    "\n",
    "        label = np.array([self.korBOW[txt] for txt in self.gen_seq(self.kor_corpus[i])])\n",
    "\n",
    "        return data, label\n",
    "\n",
    "def loader(dataset):\n",
    "    for i in range(len(dataset)):\n",
    "        data, label = dataset[i]\n",
    "        yield torch.tensor(data), torch.tensor(label)"
   ],
   "metadata": {
    "collapsed": false
   }
  },
  {
   "cell_type": "code",
   "execution_count": 4,
   "outputs": [],
   "source": [
    "import torch.nn as nn\n",
    "\n",
    "class Encoder(nn.Module):\n",
    "    def __init__(self, input_size, hidden_size):\n",
    "        super(Encoder, self).__init__()\n",
    "\n",
    "        self.embedding = nn.Embedding(input_size, hidden_size)\n",
    "        self.gru = nn.GRU(hidden_size, hidden_size)\n",
    "\n",
    "    def forward(self, x, h):\n",
    "        x = self.embedding(x).view(1, 1, -1)\n",
    "        output, hidden = self.gru(x, h)\n",
    "        return output, hidden"
   ],
   "metadata": {
    "collapsed": false
   }
  },
  {
   "cell_type": "code",
   "execution_count": 5,
   "outputs": [],
   "source": [
    "class Decoder(nn.Module):\n",
    "    def __init__(self, hidden_size, output_size, dropout_p=0.1, max_length=11):\n",
    "        super(Decoder, self).__init__()\n",
    "\n",
    "        self.embedding = nn.Embedding(output_size, hidden_size)\n",
    "\n",
    "        self.attention = nn.Linear(hidden_size * 2, max_length)\n",
    "\n",
    "        self.context = nn.Linear(hidden_size * 2, hidden_size)\n",
    "\n",
    "        self.dropout = nn.Dropout(dropout_p)\n",
    "\n",
    "        self.gru = nn.GRU(hidden_size, hidden_size)\n",
    "\n",
    "        self.out = nn.Linear(hidden_size, output_size)\n",
    "\n",
    "        self.relu = nn.ReLU()\n",
    "        self.softmax = nn.LogSoftmax(dim=1)\n",
    "\n",
    "    def forward(self, x, h, encoder_outputs):\n",
    "        x = self.embedding(x).view(1, 1, -1)\n",
    "        x = self.dropout(x)\n",
    "\n",
    "        attn_weights = self.softmax(self.attention(torch.cat((x[0], h[0]), -1)))\n",
    "\n",
    "        attn_applied = torch.bmm(attn_weights.unsqueeze(0),\n",
    "                                 encoder_outputs.unsqueeze(0))\n",
    "\n",
    "        output = torch.cat((x[0], attn_applied[0]), 1)\n",
    "        output = self.context(output).unsqueeze(0)\n",
    "        output = self.relu(output)\n",
    "\n",
    "        output, hidden = self.gru(output, h)\n",
    "\n",
    "        output = self.out(output[0])\n",
    "\n",
    "        return output"
   ],
   "metadata": {
    "collapsed": false
   }
  },
  {
   "cell_type": "code",
   "execution_count": 6,
   "outputs": [],
   "source": [
    "import random\n",
    "import tqdm\n",
    "\n",
    "from torch.optim.adam import Adam\n",
    "\n",
    "device = 'cuda' if torch.cuda.is_available() else 'cpu'\n",
    "dataset = Eng2Kor()\n",
    "\n",
    "encoder = Encoder(input_size=len(dataset.engBOW), hidden_size=64).to(device)\n",
    "decoder = Decoder(64, len(dataset.korBOW), dropout_p=0.1).to(device)\n",
    "\n",
    "encoder_optimizer = Adam(encoder.parameters(), lr=0.0001)\n",
    "decoder_optimizer = Adam(decoder.parameters(), lr=0.0001)"
   ],
   "metadata": {
    "collapsed": false
   }
  },
  {
   "cell_type": "code",
   "execution_count": null,
   "outputs": [
    {
     "name": "stderr",
     "output_type": "stream",
     "text": [
      "  0%|          | 0/3712 [00:00<?, ?it/s]C:\\Users\\labadmin\\AppData\\Local\\Temp\\2\\ipykernel_1028\\2817659578.py:6: UserWarning: To copy construct from a tensor, it is recommended to use sourceTensor.clone().detach() or sourceTensor.clone().detach().requires_grad_(True), rather than torch.tensor(sourceTensor).\n",
      "  data = torch.tensor(data, dtype=torch.long).to(device)\n",
      "C:\\Users\\labadmin\\AppData\\Local\\Temp\\2\\ipykernel_1028\\2817659578.py:7: UserWarning: To copy construct from a tensor, it is recommended to use sourceTensor.clone().detach() or sourceTensor.clone().detach().requires_grad_(True), rather than torch.tensor(sourceTensor).\n",
      "  label = torch.tensor(label, dtype=torch.long).to(device)\n",
      "C:\\Users\\labadmin\\AppData\\Local\\Temp\\2\\ipykernel_1028\\2817659578.py:30: UserWarning: To copy construct from a tensor, it is recommended to use sourceTensor.clone().detach() or sourceTensor.clone().detach().requires_grad_(True), rather than torch.tensor(sourceTensor).\n",
      "  target = torch.tensor(label[di], dtype=torch.long).to(device)\n",
      "epoch: 1 loss: 0.041166597913051474:   0%|          | 1/3712 [00:00<31:10,  1.98it/s]C:\\Users\\labadmin\\AppData\\Local\\Temp\\2\\ipykernel_1028\\2817659578.py:42: UserWarning: To copy construct from a tensor, it is recommended to use sourceTensor.clone().detach() or sourceTensor.clone().detach().requires_grad_(True), rather than torch.tensor(sourceTensor).\n",
      "  target = torch.tensor(label[di], dtype=torch.long).to(device)\n",
      "epoch: 1 loss: 22.65905657818479: 100%|██████████| 3712/3712 [01:07<00:00, 55.26it/s] \n",
      "epoch: 2 loss: 22.64530595488329: 100%|██████████| 3712/3712 [01:08<00:00, 53.81it/s] \n",
      "epoch: 3 loss: 22.273430213396423: 100%|██████████| 3712/3712 [01:10<00:00, 52.50it/s]\n",
      "epoch: 4 loss: 21.650010128023837: 100%|██████████| 3712/3712 [01:11<00:00, 52.11it/s]\n",
      "epoch: 5 loss: 21.17616316843138: 100%|██████████| 3712/3712 [01:12<00:00, 51.28it/s] \n",
      "epoch: 6 loss: 21.160180395854443: 100%|██████████| 3712/3712 [01:14<00:00, 50.00it/s]\n",
      "epoch: 7 loss: 20.796448272877715: 100%|██████████| 3712/3712 [01:14<00:00, 49.92it/s]\n",
      "epoch: 8 loss: 20.812136580204154: 100%|██████████| 3712/3712 [01:15<00:00, 49.34it/s]\n",
      "epoch: 9 loss: 20.881835076572575: 100%|██████████| 3712/3712 [01:15<00:00, 49.28it/s]\n",
      "epoch: 10 loss: 20.595257502370302: 100%|██████████| 3712/3712 [01:15<00:00, 49.29it/s]\n",
      "epoch: 11 loss: 20.195311128322427: 100%|██████████| 3712/3712 [01:15<00:00, 49.17it/s]\n",
      "epoch: 12 loss: 20.323376394294456: 100%|██████████| 3712/3712 [01:16<00:00, 48.71it/s]\n",
      "epoch: 13 loss: 20.130180896227742: 100%|██████████| 3712/3712 [01:13<00:00, 50.36it/s]\n",
      "epoch: 14 loss: 19.66785598584802: 100%|██████████| 3712/3712 [01:12<00:00, 50.92it/s] \n",
      "epoch: 15 loss: 19.426304637871937: 100%|██████████| 3712/3712 [01:12<00:00, 50.91it/s]\n",
      "epoch: 16 loss: 19.51270061291373: 100%|██████████| 3712/3712 [01:13<00:00, 50.36it/s] \n",
      "epoch: 17 loss: 5.356914866587216:  40%|███▉      | 1478/3712 [00:24<00:46, 47.79it/s] "
     ]
    }
   ],
   "source": [
    "for epoch in range(200):\n",
    "    iterator = tqdm.tqdm(loader(dataset), total=len(dataset))\n",
    "    total_loss = 0\n",
    "\n",
    "    for data, label in iterator:\n",
    "        data = torch.tensor(data, dtype=torch.long).to(device)\n",
    "        label = torch.tensor(label, dtype=torch.long).to(device)\n",
    "\n",
    "        encoder_hidden = torch.zeros(1, 1, 64).to(device)\n",
    "        encoder_outputs = torch.zeros(11, 64).to(device)\n",
    "\n",
    "        encoder_optimizer.zero_grad()\n",
    "        decoder_optimizer.zero_grad()\n",
    "\n",
    "        loss = 0\n",
    "\n",
    "        for ei in range(len(data)):\n",
    "            encoder_output, encoder_hidden = encoder(data[ei], encoder_hidden)\n",
    "            encoder_outputs[ei] = encoder_output[0, 0]\n",
    "\n",
    "        decoder_input = torch.tensor([[0]]).to(device)\n",
    "\n",
    "        decoder_hidden = encoder_hidden\n",
    "\n",
    "        use_teacher_forcing = True if random.random() < 0.5 else False\n",
    "\n",
    "        if use_teacher_forcing:\n",
    "            for di in range(len(label)):\n",
    "                decoder_output = decoder(decoder_input, decoder_hidden, encoder_outputs)\n",
    "                target = torch.tensor(label[di], dtype=torch.long).to(device)\n",
    "                target = torch.unsqueeze(target, dim=0).to(device)\n",
    "                loss += nn.CrossEntropyLoss()(decoder_output, target)\n",
    "                decoder_input = target\n",
    "\n",
    "        else:\n",
    "            for di in range(len(label)):\n",
    "                decoder_output = decoder(decoder_input, decoder_hidden, encoder_outputs)\n",
    "\n",
    "                topv, topi = decoder_output.topk(1)\n",
    "                decoder_input = topi.squeeze().detach()\n",
    "\n",
    "                target = torch.tensor(label[di], dtype=torch.long).to(device)\n",
    "                target = torch.unsqueeze(target, dim=0).to(device)\n",
    "                loss += nn.CrossEntropyLoss()(decoder_output, target)\n",
    "\n",
    "                if decoder_input.item() == 1:\n",
    "                    break\n",
    "\n",
    "        total_loss += loss.item()/len(dataset)\n",
    "        iterator.set_description(f'epoch: {epoch+1} loss: {total_loss}')\n",
    "        loss.backward()\n",
    "\n",
    "        encoder_optimizer.step()\n",
    "        decoder_optimizer.step()\n",
    "torch.save(encoder.state_dict(), './attn_enc.pth')\n",
    "torch.save(decoder.state_dict(), './attn_dec.pth')"
   ],
   "metadata": {
    "collapsed": false
   }
  },
  {
   "cell_type": "code",
   "execution_count": 12,
   "outputs": [
    {
     "name": "stdout",
     "output_type": "stream",
     "text": [
      "run\n",
      "톰은 오늘 밤 집에 싶어한다 \n"
     ]
    }
   ],
   "source": [
    "encoder.load_state_dict(torch.load('./attn_enc.pth', map_location=device))\n",
    "decoder.load_state_dict(torch.load('./attn_dec.pth', map_location=device))\n",
    "\n",
    "idx = random.randint(0, len(dataset))\n",
    "\n",
    "# input_sentence = dataset.eng_corpus[idx]\n",
    "input_sentence = 'run'\n",
    "\n",
    "pred_sentence = ''\n",
    "\n",
    "data, label = dataset[idx]\n",
    "data = torch.tensor(data, dtype=torch.long).to(device)\n",
    "label = torch.tensor(label, dtype=torch.long).to(device)\n",
    "\n",
    "encoder_hidden = torch.zeros(1, 1, 64).to(device)\n",
    "encoder_outputs = torch.zeros(11, 64).to(device)\n",
    "\n",
    "for ei in range(len(data)):\n",
    "    encoder_output, encoder_hidden = encoder(data[ei], encoder_hidden)\n",
    "    encoder_outputs[ei] = encoder_output[0, 0]\n",
    "\n",
    "decoder_input = torch.tensor([[0]]).to(device)\n",
    "\n",
    "decoder_hidden = encoder_hidden\n",
    "\n",
    "for di in range(11):\n",
    "    decoder_output = decoder(decoder_input, decoder_hidden, encoder_outputs)\n",
    "    topv, topi = decoder_output.topk(1)\n",
    "    decoder_input = topi.squeeze().detach()\n",
    "\n",
    "    if decoder_input.item() == 1:\n",
    "        break\n",
    "    pred_sentence += list(dataset.korBOW.keys())[decoder_input] + ' '\n",
    "\n",
    "print(input_sentence)\n",
    "print(pred_sentence)"
   ],
   "metadata": {
    "collapsed": false
   }
  },
  {
   "cell_type": "code",
   "execution_count": null,
   "outputs": [],
   "source": [],
   "metadata": {
    "collapsed": false
   }
  }
 ],
 "metadata": {
  "kernelspec": {
   "display_name": "Python 3",
   "language": "python",
   "name": "python3"
  },
  "language_info": {
   "codemirror_mode": {
    "name": "ipython",
    "version": 2
   },
   "file_extension": ".py",
   "mimetype": "text/x-python",
   "name": "python",
   "nbconvert_exporter": "python",
   "pygments_lexer": "ipython2",
   "version": "2.7.6"
  }
 },
 "nbformat": 4,
 "nbformat_minor": 0
}
