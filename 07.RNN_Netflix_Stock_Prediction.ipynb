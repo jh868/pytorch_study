{
 "cells": [
  {
   "cell_type": "code",
   "execution_count": 1,
   "metadata": {
    "collapsed": true
   },
   "outputs": [
    {
     "data": {
      "text/plain": "         Date        Open        High         Low       Close   Adj Close  \\\n0  2018-02-05  262.000000  267.899994  250.029999  254.259995  254.259995   \n1  2018-02-06  247.699997  266.700012  245.000000  265.720001  265.720001   \n2  2018-02-07  266.579987  272.450012  264.329987  264.559998  264.559998   \n3  2018-02-08  267.079987  267.619995  250.000000  250.100006  250.100006   \n4  2018-02-09  253.850006  255.800003  236.110001  249.470001  249.470001   \n\n     Volume  \n0  11896100  \n1  12595800  \n2   8981500  \n3   9306700  \n4  16906900  ",
      "text/html": "<div>\n<style scoped>\n    .dataframe tbody tr th:only-of-type {\n        vertical-align: middle;\n    }\n\n    .dataframe tbody tr th {\n        vertical-align: top;\n    }\n\n    .dataframe thead th {\n        text-align: right;\n    }\n</style>\n<table border=\"1\" class=\"dataframe\">\n  <thead>\n    <tr style=\"text-align: right;\">\n      <th></th>\n      <th>Date</th>\n      <th>Open</th>\n      <th>High</th>\n      <th>Low</th>\n      <th>Close</th>\n      <th>Adj Close</th>\n      <th>Volume</th>\n    </tr>\n  </thead>\n  <tbody>\n    <tr>\n      <th>0</th>\n      <td>2018-02-05</td>\n      <td>262.000000</td>\n      <td>267.899994</td>\n      <td>250.029999</td>\n      <td>254.259995</td>\n      <td>254.259995</td>\n      <td>11896100</td>\n    </tr>\n    <tr>\n      <th>1</th>\n      <td>2018-02-06</td>\n      <td>247.699997</td>\n      <td>266.700012</td>\n      <td>245.000000</td>\n      <td>265.720001</td>\n      <td>265.720001</td>\n      <td>12595800</td>\n    </tr>\n    <tr>\n      <th>2</th>\n      <td>2018-02-07</td>\n      <td>266.579987</td>\n      <td>272.450012</td>\n      <td>264.329987</td>\n      <td>264.559998</td>\n      <td>264.559998</td>\n      <td>8981500</td>\n    </tr>\n    <tr>\n      <th>3</th>\n      <td>2018-02-08</td>\n      <td>267.079987</td>\n      <td>267.619995</td>\n      <td>250.000000</td>\n      <td>250.100006</td>\n      <td>250.100006</td>\n      <td>9306700</td>\n    </tr>\n    <tr>\n      <th>4</th>\n      <td>2018-02-09</td>\n      <td>253.850006</td>\n      <td>255.800003</td>\n      <td>236.110001</td>\n      <td>249.470001</td>\n      <td>249.470001</td>\n      <td>16906900</td>\n    </tr>\n  </tbody>\n</table>\n</div>"
     },
     "execution_count": 1,
     "metadata": {},
     "output_type": "execute_result"
    }
   ],
   "source": [
    "import pandas as pd\n",
    "\n",
    "data = pd.read_csv('./NFLX.csv')\n",
    "data.head()"
   ]
  },
  {
   "cell_type": "code",
   "execution_count": 2,
   "outputs": [
    {
     "name": "stdout",
     "output_type": "stream",
     "text": [
      "<class 'pandas.core.frame.DataFrame'>\n",
      "RangeIndex: 1009 entries, 0 to 1008\n",
      "Data columns (total 7 columns):\n",
      " #   Column     Non-Null Count  Dtype  \n",
      "---  ------     --------------  -----  \n",
      " 0   Date       1009 non-null   object \n",
      " 1   Open       1009 non-null   float64\n",
      " 2   High       1009 non-null   float64\n",
      " 3   Low        1009 non-null   float64\n",
      " 4   Close      1009 non-null   float64\n",
      " 5   Adj Close  1009 non-null   float64\n",
      " 6   Volume     1009 non-null   int64  \n",
      "dtypes: float64(5), int64(1), object(1)\n",
      "memory usage: 55.3+ KB\n"
     ]
    }
   ],
   "source": [
    "data.info()"
   ],
   "metadata": {
    "collapsed": false
   }
  },
  {
   "cell_type": "code",
   "execution_count": 3,
   "outputs": [
    {
     "data": {
      "text/plain": "<Figure size 640x480 with 4 Axes>",
      "image/png": "[encoded data removed]"
     },
     "metadata": {},
     "output_type": "display_data"
    }
   ],
   "source": [
    "import matplotlib.pyplot as plt\n",
    "\n",
    "data_used = data.iloc[:, 1:4]  # open, high, low\n",
    "data_used['Close'] = data['Close']\n",
    "hist = data_used.hist()\n",
    "plt.show()"
   ],
   "metadata": {
    "collapsed": false
   }
  },
  {
   "cell_type": "markdown",
   "source": [
    "값 분포 값 넓게 형성되어 있어 정규화가 필요해 보임"
   ],
   "metadata": {
    "collapsed": false
   }
  },
  {
   "cell_type": "code",
   "execution_count": 4,
   "outputs": [],
   "source": [
    "import numpy as np\n",
    "from torch.utils.data.dataset import Dataset\n",
    "\n",
    "\n",
    "class Netflix(Dataset):\n",
    "    def __init__(self):\n",
    "        self.csv = pd.read_csv('./NFLX.csv')\n",
    "\n",
    "        # Normalize\n",
    "        self.data = self.csv.iloc[:, 1:4].values\n",
    "        self.data = self.data / np.max(self.data)\n",
    "\n",
    "        self.label = data['Close'].values\n",
    "        self.label = self.label / np.max(self.label)\n",
    "\n",
    "    # 30일치씩 읽을 예정 때문에 전체 길이에서 - 30을 리턴\n",
    "    def __len__(self):\n",
    "        return len(self.data) - 30\n",
    "\n",
    "    def __getitem__(self, item):\n",
    "        data = self.data[item:item + 30]\n",
    "        label = self.label[item + 30]\n",
    "\n",
    "        return data, label"
   ],
   "metadata": {
    "collapsed": false
   }
  },
  {
   "cell_type": "code",
   "execution_count": 5,
   "outputs": [],
   "source": [
    "import torch\n",
    "import torch.nn as nn\n",
    "\n",
    "\n",
    "class RNN(nn.Module):\n",
    "    def __init__(self):\n",
    "        super(RNN, self).__init__()\n",
    "\n",
    "        '''\n",
    "        input size 입력 텐서의 특징 개수(개장가, 최고가, 최저가)\n",
    "        hidden size hidden state의 벡터 크기?, 몇개의 아웃풋을 내보낼 것인지\n",
    "        num layers 쌓을 rnn층 개수 의미, 너무 많이 쌓으면 기울기 폭발하므로 보통 3, 5를 사용\n",
    "        batch first 배치 차원이 가장 앞으로 배치\n",
    "        '''\n",
    "        self.rnn = nn.RNN(input_size=3, hidden_size=8, num_layers=5, batch_first=True)\n",
    "\n",
    "        self.fc1 = nn.Linear(in_features=240, out_features=64)\n",
    "        self.fc2 = nn.Linear(in_features=64, out_features=1)\n",
    "\n",
    "        self.relu = nn.ReLU()\n",
    "\n",
    "    def forward(self, x, h0):\n",
    "        x, hn = self.rnn(x, h0)\n",
    "\n",
    "        x = torch.reshape(x, (x.shape[0], -1))\n",
    "\n",
    "        x = self.fc1(x)\n",
    "        x = self.relu(x)\n",
    "        x = self.fc2(x)\n",
    "\n",
    "        x = torch.flatten(x)\n",
    "\n",
    "        return x"
   ],
   "metadata": {
    "collapsed": false
   }
  },
  {
   "cell_type": "code",
   "execution_count": 6,
   "outputs": [
    {
     "name": "stderr",
     "output_type": "stream",
     "text": [
      "epoch: 0 loss: 0.16827382147312164: 100%|██████████| 31/31 [00:06<00:00,  4.98it/s]\n",
      "epoch: 1 loss: 0.02592593804001808: 100%|██████████| 31/31 [00:04<00:00,  6.56it/s]  \n",
      "epoch: 2 loss: 0.008979665115475655: 100%|██████████| 31/31 [00:04<00:00,  6.59it/s] \n",
      "epoch: 3 loss: 0.00956657249480486: 100%|██████████| 31/31 [00:04<00:00,  6.52it/s]  \n",
      "epoch: 4 loss: 0.009587888605892658: 100%|██████████| 31/31 [00:04<00:00,  6.55it/s] \n",
      "epoch: 5 loss: 0.009452677331864834: 100%|██████████| 31/31 [00:04<00:00,  6.52it/s] \n",
      "epoch: 6 loss: 0.009373752400279045: 100%|██████████| 31/31 [00:04<00:00,  6.54it/s] \n",
      "epoch: 7 loss: 0.009280561469495296: 100%|██████████| 31/31 [00:04<00:00,  6.52it/s] \n",
      "epoch: 8 loss: 0.009177915751934052: 100%|██████████| 31/31 [00:04<00:00,  6.45it/s] \n",
      "epoch: 9 loss: 0.009066261351108551: 100%|██████████| 31/31 [00:04<00:00,  6.37it/s] \n",
      "epoch: 10 loss: 0.008945422247052193: 100%|██████████| 31/31 [00:04<00:00,  6.34it/s] \n",
      "epoch: 11 loss: 0.008816941641271114: 100%|██████████| 31/31 [00:04<00:00,  6.41it/s] \n",
      "epoch: 12 loss: 0.008683459833264351: 100%|██████████| 31/31 [00:04<00:00,  6.30it/s] \n",
      "epoch: 13 loss: 0.008548992685973644: 100%|██████████| 31/31 [00:04<00:00,  6.40it/s] \n",
      "epoch: 14 loss: 0.00841959286481142: 100%|██████████| 31/31 [00:04<00:00,  6.43it/s]  \n",
      "epoch: 15 loss: 0.008305187337100506: 100%|██████████| 31/31 [00:04<00:00,  6.39it/s] \n",
      "epoch: 16 loss: 0.008216735906898975: 100%|██████████| 31/31 [00:04<00:00,  6.37it/s] \n",
      "epoch: 17 loss: 0.008200598880648613: 100%|██████████| 31/31 [00:04<00:00,  6.35it/s] \n",
      "epoch: 18 loss: 0.008313191123306751: 100%|██████████| 31/31 [00:04<00:00,  6.39it/s] \n",
      "epoch: 19 loss: 0.008728470653295517: 100%|██████████| 31/31 [00:04<00:00,  6.36it/s] \n",
      "epoch: 20 loss: 0.009530979208648205: 100%|██████████| 31/31 [00:04<00:00,  6.24it/s] \n",
      "epoch: 21 loss: 0.011132045648992062: 100%|██████████| 31/31 [00:04<00:00,  6.36it/s] \n",
      "epoch: 22 loss: 0.013914855197072029: 100%|██████████| 31/31 [00:04<00:00,  6.25it/s] \n",
      "epoch: 23 loss: 0.01808309182524681: 100%|██████████| 31/31 [00:04<00:00,  6.26it/s]  \n",
      "epoch: 24 loss: 0.024459848180413246: 100%|██████████| 31/31 [00:04<00:00,  6.25it/s]  \n",
      "epoch: 25 loss: 0.030522271990776062: 100%|██████████| 31/31 [00:04<00:00,  6.24it/s] \n",
      "epoch: 26 loss: 0.03337470442056656: 100%|██████████| 31/31 [00:05<00:00,  6.16it/s]  \n",
      "epoch: 27 loss: 0.03388676047325134: 100%|██████████| 31/31 [00:04<00:00,  6.26it/s]   \n",
      "epoch: 28 loss: 0.03401372581720352: 100%|██████████| 31/31 [00:04<00:00,  6.22it/s]  \n",
      "epoch: 29 loss: 0.03389059752225876: 100%|██████████| 31/31 [00:05<00:00,  6.13it/s]   \n",
      "epoch: 30 loss: 0.03382084146142006: 100%|██████████| 31/31 [00:04<00:00,  6.21it/s]  \n",
      "epoch: 31 loss: 0.033807236701250076: 100%|██████████| 31/31 [00:04<00:00,  6.21it/s]  \n",
      "epoch: 32 loss: 0.033805496990680695: 100%|██████████| 31/31 [00:04<00:00,  6.23it/s]  \n",
      "epoch: 33 loss: 0.0338108092546463: 100%|██████████| 31/31 [00:05<00:00,  6.18it/s]    \n",
      "epoch: 34 loss: 0.033820584416389465: 100%|██████████| 31/31 [00:05<00:00,  6.06it/s]  \n",
      "epoch: 35 loss: 0.03383691608905792: 100%|██████████| 31/31 [00:04<00:00,  6.33it/s]   \n",
      "epoch: 36 loss: 0.03386160731315613: 100%|██████████| 31/31 [00:04<00:00,  6.30it/s]  \n",
      "epoch: 37 loss: 0.03388441354036331: 100%|██████████| 31/31 [00:04<00:00,  6.21it/s]   \n",
      "epoch: 38 loss: 0.03391273319721222: 100%|██████████| 31/31 [00:05<00:00,  6.16it/s]  \n",
      "epoch: 39 loss: 0.03394460305571556: 100%|██████████| 31/31 [00:04<00:00,  6.22it/s]  \n",
      "epoch: 40 loss: 0.03396953269839287: 100%|██████████| 31/31 [00:04<00:00,  6.32it/s]  \n",
      "epoch: 41 loss: 0.03400367125868797: 100%|██████████| 31/31 [00:04<00:00,  6.29it/s]   \n",
      "epoch: 42 loss: 0.034033335745334625: 100%|██████████| 31/31 [00:04<00:00,  6.22it/s]  \n",
      "epoch: 43 loss: 0.03406485915184021: 100%|██████████| 31/31 [00:04<00:00,  6.25it/s]   \n",
      "epoch: 44 loss: 0.03409877419471741: 100%|██████████| 31/31 [00:05<00:00,  5.97it/s]   \n",
      "epoch: 45 loss: 0.03412386402487755: 100%|██████████| 31/31 [00:05<00:00,  6.12it/s]  \n",
      "epoch: 46 loss: 0.034153636544942856: 100%|██████████| 31/31 [00:04<00:00,  6.24it/s] \n",
      "epoch: 47 loss: 0.03418448567390442: 100%|██████████| 31/31 [00:05<00:00,  6.17it/s]   \n",
      "epoch: 48 loss: 0.03420969098806381: 100%|██████████| 31/31 [00:04<00:00,  6.21it/s]   \n",
      "epoch: 49 loss: 0.034232985228300095: 100%|██████████| 31/31 [00:05<00:00,  6.17it/s] \n",
      "epoch: 50 loss: 0.034266553819179535: 100%|██████████| 31/31 [00:05<00:00,  6.17it/s] \n",
      "epoch: 51 loss: 0.0342852957546711: 100%|██████████| 31/31 [00:04<00:00,  6.27it/s]    \n",
      "epoch: 52 loss: 0.034308623522520065: 100%|██████████| 31/31 [00:04<00:00,  6.25it/s] \n",
      "epoch: 53 loss: 0.03433218598365784: 100%|██████████| 31/31 [00:04<00:00,  6.22it/s]   \n",
      "epoch: 54 loss: 0.03435507416725159: 100%|██████████| 31/31 [00:04<00:00,  6.29it/s]   \n",
      "epoch: 55 loss: 0.03437240049242973: 100%|██████████| 31/31 [00:04<00:00,  6.21it/s]   \n",
      "epoch: 56 loss: 0.03439207375049591: 100%|██████████| 31/31 [00:04<00:00,  6.20it/s]   \n",
      "epoch: 57 loss: 0.03440849483013153: 100%|██████████| 31/31 [00:05<00:00,  6.12it/s]   \n",
      "epoch: 58 loss: 0.034424688667058945: 100%|██████████| 31/31 [00:05<00:00,  6.13it/s]  \n",
      "epoch: 59 loss: 0.03443816304206848: 100%|██████████| 31/31 [00:05<00:00,  6.16it/s]  \n",
      "epoch: 60 loss: 0.03445068746805191: 100%|██████████| 31/31 [00:04<00:00,  6.22it/s]   \n",
      "epoch: 61 loss: 0.034459151327610016: 100%|██████████| 31/31 [00:04<00:00,  6.22it/s] \n",
      "epoch: 62 loss: 0.034470561891794205: 100%|██████████| 31/31 [00:04<00:00,  6.26it/s]  \n",
      "epoch: 63 loss: 0.03448076546192169: 100%|██████████| 31/31 [00:04<00:00,  6.22it/s]   \n",
      "epoch: 64 loss: 0.03448055312037468: 100%|██████████| 31/31 [00:04<00:00,  6.24it/s]  \n",
      "epoch: 65 loss: 0.03449064865708351: 100%|██████████| 31/31 [00:05<00:00,  6.17it/s]   \n",
      "epoch: 66 loss: 0.034492723643779755: 100%|██████████| 31/31 [00:05<00:00,  6.18it/s]  \n",
      "epoch: 67 loss: 0.034490764141082764: 100%|██████████| 31/31 [00:05<00:00,  6.14it/s]  \n",
      "epoch: 68 loss: 0.03449398651719093: 100%|██████████| 31/31 [00:04<00:00,  6.28it/s]  \n",
      "epoch: 69 loss: 0.03449390456080437: 100%|██████████| 31/31 [00:04<00:00,  6.27it/s]  \n",
      "epoch: 70 loss: 0.03448500111699104: 100%|██████████| 31/31 [00:04<00:00,  6.25it/s]   \n",
      "epoch: 71 loss: 0.03448408097028732: 100%|██████████| 31/31 [00:04<00:00,  6.29it/s]  \n",
      "epoch: 72 loss: 0.03447553515434265: 100%|██████████| 31/31 [00:04<00:00,  6.29it/s]  \n",
      "epoch: 73 loss: 0.034468214958906174: 100%|██████████| 31/31 [00:04<00:00,  6.26it/s] \n",
      "epoch: 74 loss: 0.034457795321941376: 100%|██████████| 31/31 [00:04<00:00,  6.23it/s] \n",
      "epoch: 75 loss: 0.034445054829120636: 100%|██████████| 31/31 [00:04<00:00,  6.29it/s] \n",
      "epoch: 76 loss: 0.03443235903978348: 100%|██████████| 31/31 [00:04<00:00,  6.28it/s]   \n",
      "epoch: 77 loss: 0.03441905602812767: 100%|██████████| 31/31 [00:04<00:00,  6.27it/s]   \n",
      "epoch: 78 loss: 0.03439868241548538: 100%|██████████| 31/31 [00:04<00:00,  6.26it/s]   \n",
      "epoch: 79 loss: 0.034382414072752: 100%|██████████| 31/31 [00:04<00:00,  6.24it/s]     \n",
      "epoch: 80 loss: 0.03436223417520523: 100%|██████████| 31/31 [00:04<00:00,  6.23it/s]  \n",
      "epoch: 81 loss: 0.03434107080101967: 100%|██████████| 31/31 [00:05<00:00,  6.19it/s]   \n",
      "epoch: 82 loss: 0.03431665152311325: 100%|██████████| 31/31 [00:04<00:00,  6.21it/s]   \n",
      "epoch: 83 loss: 0.03429371491074562: 100%|██████████| 31/31 [00:05<00:00,  6.15it/s]   \n",
      "epoch: 84 loss: 0.034263622015714645: 100%|██████████| 31/31 [00:05<00:00,  5.30it/s]  \n",
      "epoch: 85 loss: 0.034238629043102264: 100%|██████████| 31/31 [00:05<00:00,  6.15it/s]  \n",
      "epoch: 86 loss: 0.034205712378025055: 100%|██████████| 31/31 [00:04<00:00,  6.29it/s]  \n",
      "epoch: 87 loss: 0.03417309373617172: 100%|██████████| 31/31 [00:04<00:00,  6.29it/s]   \n",
      "epoch: 88 loss: 0.03414282575249672: 100%|██████████| 31/31 [00:04<00:00,  6.31it/s]   \n",
      "epoch: 89 loss: 0.034104593098163605: 100%|██████████| 31/31 [00:04<00:00,  6.31it/s] \n",
      "epoch: 90 loss: 0.034072548151016235: 100%|██████████| 31/31 [00:04<00:00,  6.33it/s]  \n",
      "epoch: 91 loss: 0.03402726352214813: 100%|██████████| 31/31 [00:04<00:00,  6.34it/s]  \n",
      "epoch: 92 loss: 0.0339883491396904: 100%|██████████| 31/31 [00:04<00:00,  6.34it/s]    \n",
      "epoch: 93 loss: 0.0339525081217289: 100%|██████████| 31/31 [00:04<00:00,  6.27it/s]    \n",
      "epoch: 94 loss: 0.03390180692076683: 100%|██████████| 31/31 [00:04<00:00,  6.38it/s]   \n",
      "epoch: 95 loss: 0.03386370837688446: 100%|██████████| 31/31 [00:04<00:00,  6.28it/s]  \n",
      "epoch: 96 loss: 0.0338144488632679: 100%|██████████| 31/31 [00:04<00:00,  6.28it/s]    \n",
      "epoch: 97 loss: 0.033755648881196976: 100%|██████████| 31/31 [00:04<00:00,  6.27it/s]  \n",
      "epoch: 98 loss: 0.0337177999317646: 100%|██████████| 31/31 [00:04<00:00,  6.36it/s]    \n",
      "epoch: 99 loss: 0.033667005598545074: 100%|██████████| 31/31 [00:04<00:00,  6.36it/s]  \n",
      "epoch: 100 loss: 0.033607810735702515: 100%|██████████| 31/31 [00:04<00:00,  6.34it/s]  \n",
      "epoch: 101 loss: 0.033551376312971115: 100%|██████████| 31/31 [00:04<00:00,  6.36it/s]  \n",
      "epoch: 102 loss: 0.033497266471385956: 100%|██████████| 31/31 [00:04<00:00,  6.39it/s] \n",
      "epoch: 103 loss: 0.03343932703137398: 100%|██████████| 31/31 [00:04<00:00,  6.40it/s]   \n",
      "epoch: 104 loss: 0.03337915241718292: 100%|██████████| 31/31 [00:04<00:00,  6.49it/s]   \n",
      "epoch: 105 loss: 0.03331492468714714: 100%|██████████| 31/31 [00:04<00:00,  6.48it/s]  \n",
      "epoch: 106 loss: 0.03325686603784561: 100%|██████████| 31/31 [00:04<00:00,  6.38it/s]  \n",
      "epoch: 107 loss: 0.033191852271556854: 100%|██████████| 31/31 [00:04<00:00,  6.31it/s]  \n",
      "epoch: 108 loss: 0.03312148526310921: 100%|██████████| 31/31 [00:04<00:00,  6.33it/s]   \n",
      "epoch: 109 loss: 0.03305334970355034: 100%|██████████| 31/31 [00:04<00:00,  6.37it/s]   \n",
      "epoch: 110 loss: 0.032982394099235535: 100%|██████████| 31/31 [00:04<00:00,  6.44it/s]  \n",
      "epoch: 111 loss: 0.0329110249876976: 100%|██████████| 31/31 [00:04<00:00,  6.40it/s]    \n",
      "epoch: 112 loss: 0.03283927962183952: 100%|██████████| 31/31 [00:04<00:00,  6.41it/s]   \n",
      "epoch: 113 loss: 0.032763149589300156: 100%|██████████| 31/31 [00:04<00:00,  6.38it/s]  \n",
      "epoch: 114 loss: 0.03268786519765854: 100%|██████████| 31/31 [00:04<00:00,  6.35it/s]   \n",
      "epoch: 115 loss: 0.032608762383461: 100%|██████████| 31/31 [00:04<00:00,  6.38it/s]    \n",
      "epoch: 116 loss: 0.03253147006034851: 100%|██████████| 31/31 [00:04<00:00,  6.39it/s]   \n",
      "epoch: 117 loss: 0.03244688734412193: 100%|██████████| 31/31 [00:04<00:00,  6.37it/s]   \n",
      "epoch: 118 loss: 0.032367508858442307: 100%|██████████| 31/31 [00:04<00:00,  6.38it/s] \n",
      "epoch: 119 loss: 0.032281894236803055: 100%|██████████| 31/31 [00:04<00:00,  6.40it/s]  \n",
      "epoch: 120 loss: 0.03219636529684067: 100%|██████████| 31/31 [00:04<00:00,  6.39it/s]  \n",
      "epoch: 121 loss: 0.03209708258509636: 100%|██████████| 31/31 [00:04<00:00,  6.34it/s]   \n",
      "epoch: 122 loss: 0.0319952592253685: 100%|██████████| 31/31 [00:04<00:00,  6.32it/s]    \n",
      "epoch: 123 loss: 0.03190532326698303: 100%|██████████| 31/31 [00:04<00:00,  6.41it/s]  \n",
      "epoch: 124 loss: 0.03182731196284294: 100%|██████████| 31/31 [00:04<00:00,  6.32it/s]   \n",
      "epoch: 125 loss: 0.03173525258898735: 100%|██████████| 31/31 [00:04<00:00,  6.40it/s]  \n",
      "epoch: 126 loss: 0.03164159134030342: 100%|██████████| 31/31 [00:04<00:00,  6.36it/s]   \n",
      "epoch: 127 loss: 0.031543463468551636: 100%|██████████| 31/31 [00:04<00:00,  6.41it/s]  \n",
      "epoch: 128 loss: 0.031440891325473785: 100%|██████████| 31/31 [00:04<00:00,  6.36it/s]  \n",
      "epoch: 129 loss: 0.031338322907686234: 100%|██████████| 31/31 [00:04<00:00,  6.33it/s]  \n",
      "epoch: 130 loss: 0.031217148527503014: 100%|██████████| 31/31 [00:04<00:00,  6.39it/s] \n",
      "epoch: 131 loss: 0.03110233135521412: 100%|██████████| 31/31 [00:04<00:00,  6.40it/s]   \n",
      "epoch: 132 loss: 0.030982093885540962: 100%|██████████| 31/31 [00:04<00:00,  6.36it/s]  \n",
      "epoch: 133 loss: 0.030845150351524353: 100%|██████████| 31/31 [00:04<00:00,  6.42it/s]  \n",
      "epoch: 134 loss: 0.03092982992529869: 100%|██████████| 31/31 [00:04<00:00,  6.44it/s]  \n",
      "epoch: 135 loss: 0.030918529257178307: 100%|██████████| 31/31 [00:04<00:00,  6.46it/s] \n",
      "epoch: 136 loss: 0.030740883201360703: 100%|██████████| 31/31 [00:04<00:00,  6.41it/s] \n",
      "epoch: 137 loss: 0.0305287204682827: 100%|██████████| 31/31 [00:04<00:00,  6.42it/s]    \n",
      "epoch: 138 loss: 0.030346227809786797: 100%|██████████| 31/31 [00:04<00:00,  6.44it/s]  \n",
      "epoch: 139 loss: 0.030193272978067398: 100%|██████████| 31/31 [00:04<00:00,  6.44it/s]  \n",
      "epoch: 140 loss: 0.030052537098526955: 100%|██████████| 31/31 [00:04<00:00,  6.41it/s]  \n",
      "epoch: 141 loss: 0.02991267293691635: 100%|██████████| 31/31 [00:04<00:00,  6.42it/s]   \n",
      "epoch: 142 loss: 0.02977064438164234: 100%|██████████| 31/31 [00:04<00:00,  6.42it/s]   \n",
      "epoch: 143 loss: 0.02962801419198513: 100%|██████████| 31/31 [00:04<00:00,  6.40it/s]   \n",
      "epoch: 144 loss: 0.029484573751688004: 100%|██████████| 31/31 [00:04<00:00,  6.40it/s]  \n",
      "epoch: 145 loss: 0.029341477900743484: 100%|██████████| 31/31 [00:04<00:00,  6.42it/s]  \n",
      "epoch: 146 loss: 0.029197774827480316: 100%|██████████| 31/31 [00:04<00:00,  6.43it/s]  \n",
      "epoch: 147 loss: 0.029142504557967186: 100%|██████████| 31/31 [00:04<00:00,  6.47it/s]  \n",
      "epoch: 148 loss: 0.028929518535733223: 100%|██████████| 31/31 [00:04<00:00,  6.36it/s]  \n",
      "epoch: 149 loss: 0.02880222536623478: 100%|██████████| 31/31 [00:04<00:00,  6.44it/s]  \n",
      "epoch: 150 loss: 0.02864205837249756: 100%|██████████| 31/31 [00:04<00:00,  6.47it/s]   \n",
      "epoch: 151 loss: 0.02847895585000515: 100%|██████████| 31/31 [00:04<00:00,  6.46it/s]   \n",
      "epoch: 152 loss: 0.028317062184214592: 100%|██████████| 31/31 [00:04<00:00,  6.48it/s]  \n",
      "epoch: 153 loss: 0.02817145735025406: 100%|██████████| 31/31 [00:04<00:00,  6.48it/s]   \n",
      "epoch: 154 loss: 0.028017964214086533: 100%|██████████| 31/31 [00:04<00:00,  6.41it/s]  \n",
      "epoch: 155 loss: 0.027863677591085434: 100%|██████████| 31/31 [00:04<00:00,  6.60it/s]  \n",
      "epoch: 156 loss: 0.027710597962141037: 100%|██████████| 31/31 [00:04<00:00,  6.56it/s]  \n",
      "epoch: 157 loss: 0.027554236352443695: 100%|██████████| 31/31 [00:04<00:00,  6.58it/s]  \n",
      "epoch: 158 loss: 0.027393046766519547: 100%|██████████| 31/31 [00:04<00:00,  6.50it/s]  \n",
      "epoch: 159 loss: 0.027234990149736404: 100%|██████████| 31/31 [00:04<00:00,  6.57it/s]  \n",
      "epoch: 160 loss: 0.02707417495548725: 100%|██████████| 31/31 [00:04<00:00,  6.59it/s]   \n",
      "epoch: 161 loss: 0.026909496635198593: 100%|██████████| 31/31 [00:04<00:00,  6.56it/s]  \n",
      "epoch: 162 loss: 0.026746753603219986: 100%|██████████| 31/31 [00:04<00:00,  6.47it/s]  \n",
      "epoch: 163 loss: 0.026580873876810074: 100%|██████████| 31/31 [00:04<00:00,  6.49it/s]  \n",
      "epoch: 164 loss: 0.02641313336789608: 100%|██████████| 31/31 [00:04<00:00,  6.58it/s]   \n",
      "epoch: 165 loss: 0.026247011497616768: 100%|██████████| 31/31 [00:04<00:00,  6.54it/s]  \n",
      "epoch: 166 loss: 0.026077035814523697: 100%|██████████| 31/31 [00:04<00:00,  6.49it/s]  \n",
      "epoch: 167 loss: 0.02590346895158291: 100%|██████████| 31/31 [00:04<00:00,  6.53it/s]   \n",
      "epoch: 168 loss: 0.0256438460201025: 100%|██████████| 31/31 [00:04<00:00,  6.54it/s]    \n",
      "epoch: 169 loss: 0.025648130103945732: 100%|██████████| 31/31 [00:04<00:00,  6.51it/s]  \n",
      "epoch: 170 loss: 0.025474345311522484: 100%|██████████| 31/31 [00:04<00:00,  6.59it/s]  \n",
      "epoch: 171 loss: 0.025246959179639816: 100%|██████████| 31/31 [00:04<00:00,  6.47it/s]  \n",
      "epoch: 172 loss: 0.02503705956041813: 100%|██████████| 31/31 [00:04<00:00,  6.57it/s]   \n",
      "epoch: 173 loss: 0.024846618995070457: 100%|██████████| 31/31 [00:04<00:00,  6.53it/s]  \n",
      "epoch: 174 loss: 0.024666888639330864: 100%|██████████| 31/31 [00:04<00:00,  6.48it/s]  \n",
      "epoch: 175 loss: 0.024485336616635323: 100%|██████████| 31/31 [00:04<00:00,  6.43it/s]  \n",
      "epoch: 176 loss: 0.02429939992725849: 100%|██████████| 31/31 [00:04<00:00,  6.44it/s]   \n",
      "epoch: 177 loss: 0.024120857939124107: 100%|██████████| 31/31 [00:04<00:00,  6.51it/s]  \n",
      "epoch: 178 loss: 0.02393614687025547: 100%|██████████| 31/31 [00:04<00:00,  6.47it/s]   \n",
      "epoch: 179 loss: 0.02375209331512451: 100%|██████████| 31/31 [00:04<00:00,  6.44it/s]   \n",
      "epoch: 180 loss: 0.02356666326522827: 100%|██████████| 31/31 [00:04<00:00,  6.52it/s]   \n",
      "epoch: 181 loss: 0.02337822876870632: 100%|██████████| 31/31 [00:04<00:00,  6.48it/s]  \n",
      "epoch: 182 loss: 0.023192748427391052: 100%|██████████| 31/31 [00:04<00:00,  6.49it/s]  \n",
      "epoch: 183 loss: 0.023004358634352684: 100%|██████████| 31/31 [00:04<00:00,  6.45it/s]  \n",
      "epoch: 184 loss: 0.022816099226474762: 100%|██████████| 31/31 [00:04<00:00,  6.50it/s]  \n",
      "epoch: 185 loss: 0.022629305720329285: 100%|██████████| 31/31 [00:04<00:00,  6.48it/s]  \n",
      "epoch: 186 loss: 0.02243865095078945: 100%|██████████| 31/31 [00:04<00:00,  6.46it/s]   \n",
      "epoch: 187 loss: 0.022252513095736504: 100%|██████████| 31/31 [00:04<00:00,  6.45it/s]  \n",
      "epoch: 188 loss: 0.022063013166189194: 100%|██████████| 31/31 [00:04<00:00,  6.45it/s]  \n",
      "epoch: 189 loss: 0.02187211439013481: 100%|██████████| 31/31 [00:04<00:00,  6.41it/s]   \n",
      "epoch: 190 loss: 0.02168494462966919: 100%|██████████| 31/31 [00:04<00:00,  6.44it/s]   \n",
      "epoch: 191 loss: 0.021496456116437912: 100%|██████████| 31/31 [00:04<00:00,  6.49it/s]  \n",
      "epoch: 192 loss: 0.021309494972229004: 100%|██████████| 31/31 [00:04<00:00,  6.55it/s]  \n",
      "epoch: 193 loss: 0.02112152799963951: 100%|██████████| 31/31 [00:04<00:00,  6.46it/s]   \n",
      "epoch: 194 loss: 0.020933475345373154: 100%|██████████| 31/31 [00:04<00:00,  6.44it/s]  \n",
      "epoch: 195 loss: 0.020748024806380272: 100%|██████████| 31/31 [00:04<00:00,  6.44it/s]  \n",
      "epoch: 196 loss: 0.020563116297125816: 100%|██████████| 31/31 [00:04<00:00,  6.45it/s]  \n",
      "epoch: 197 loss: 0.02038031443953514: 100%|██████████| 31/31 [00:04<00:00,  6.44it/s]   \n",
      "epoch: 198 loss: 0.02019503340125084: 100%|██████████| 31/31 [00:04<00:00,  6.47it/s]   \n",
      "epoch: 199 loss: 0.020012827590107918: 100%|██████████| 31/31 [00:04<00:00,  6.41it/s]  \n"
     ]
    }
   ],
   "source": [
    "import tqdm\n",
    "\n",
    "from torch.optim.adam import Adam\n",
    "from torch.utils.data.dataloader import DataLoader\n",
    "\n",
    "device = 'mps' if torch.backends.mps.is_available() else 'cpu'\n",
    "\n",
    "model = RNN().to(device)\n",
    "dataset = Netflix()\n",
    "\n",
    "loader = DataLoader(dataset, batch_size=32)\n",
    "\n",
    "optim = Adam(params=model.parameters(), lr=0.0001)\n",
    "\n",
    "for epoch in range(200):\n",
    "    iterator = tqdm.tqdm(loader)\n",
    "    for data, label in iterator:\n",
    "        optim.zero_grad()\n",
    "\n",
    "        h0 = torch.zeros(5, data.shape[0], 8).to(device)\n",
    "\n",
    "        pred = model(data.type(torch.FloatTensor).to(device), h0)\n",
    "\n",
    "        loss = nn.MSELoss()(pred, label.type(torch.FloatTensor).to(device))\n",
    "        loss.backward()\n",
    "        optim.step()\n",
    "\n",
    "        iterator.set_description(f'epoch: {epoch} loss: {loss.item()}')\n",
    "\n",
    "torch.save(model.state_dict(), './rnn.pth')"
   ],
   "metadata": {
    "collapsed": false
   }
  },
  {
   "cell_type": "code",
   "execution_count": 8,
   "outputs": [],
   "source": [
    "import matplotlib.pyplot as plt\n",
    "\n",
    "loader = DataLoader(dataset, batch_size=1)\n",
    "\n",
    "preds = []\n",
    "total_loss = 0\n",
    "\n",
    "with torch.no_grad():\n",
    "    model.load_state_dict(torch.load('./rnn.pth', map_location=device))\n",
    "\n",
    "    for data, label in loader:\n",
    "        h0 = torch.zeros(5, data.shape[0], 8).to(device)\n",
    "\n",
    "        pred = model(data.type(torch.FloatTensor).to(device), h0)\n",
    "        preds.append(pred.item())\n",
    "\n",
    "        loss = nn.MSELoss()(pred, label.type(torch.FloatTensor).to(device))\n",
    "\n",
    "        total_loss += loss / len(loader)"
   ],
   "metadata": {
    "collapsed": false
   }
  },
  {
   "cell_type": "code",
   "execution_count": 9,
   "outputs": [
    {
     "data": {
      "text/plain": "0.001939167850650847"
     },
     "execution_count": 9,
     "metadata": {},
     "output_type": "execute_result"
    }
   ],
   "source": [
    "total_loss.item()"
   ],
   "metadata": {
    "collapsed": false
   }
  },
  {
   "cell_type": "code",
   "execution_count": 13,
   "outputs": [
    {
     "data": {
      "text/plain": "<Figure size 640x480 with 1 Axes>",
      "image/png": "[encoded data removed]"
     },
     "metadata": {},
     "output_type": "display_data"
    }
   ],
   "source": [
    "plt.plot(preds, label='prediction')\n",
    "plt.plot(dataset.label[30:], label='actual')\n",
    "plt.legend()\n",
    "plt.show()"
   ],
   "metadata": {
    "collapsed": false
   }
  },
  {
   "cell_type": "code",
   "execution_count": null,
   "outputs": [],
   "source": [],
   "metadata": {
    "collapsed": false
   }
  }
 ],
 "metadata": {
  "kernelspec": {
   "display_name": "Python 3",
   "language": "python",
   "name": "python3"
  },
  "language_info": {
   "codemirror_mode": {
    "name": "ipython",
    "version": 2
   },
   "file_extension": ".py",
   "mimetype": "text/x-python",
   "name": "python",
   "nbconvert_exporter": "python",
   "pygments_lexer": "ipython2",
   "version": "2.7.6"
  }
 },
 "nbformat": 4,
 "nbformat_minor": 0
}
