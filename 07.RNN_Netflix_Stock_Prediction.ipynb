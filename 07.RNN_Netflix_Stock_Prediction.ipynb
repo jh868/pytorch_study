{
 "cells": [
  {
   "cell_type": "code",
   "execution_count": 14,
   "metadata": {
    "collapsed": true
   },
   "outputs": [
    {
     "data": {
      "text/plain": "         Date        Open        High         Low       Close   Adj Close  \\\n0  2018-02-05  262.000000  267.899994  250.029999  254.259995  254.259995   \n1  2018-02-06  247.699997  266.700012  245.000000  265.720001  265.720001   \n2  2018-02-07  266.579987  272.450012  264.329987  264.559998  264.559998   \n3  2018-02-08  267.079987  267.619995  250.000000  250.100006  250.100006   \n4  2018-02-09  253.850006  255.800003  236.110001  249.470001  249.470001   \n\n     Volume  \n0  11896100  \n1  12595800  \n2   8981500  \n3   9306700  \n4  16906900  ",
      "text/html": "<div>\n<style scoped>\n    .dataframe tbody tr th:only-of-type {\n        vertical-align: middle;\n    }\n\n    .dataframe tbody tr th {\n        vertical-align: top;\n    }\n\n    .dataframe thead th {\n        text-align: right;\n    }\n</style>\n<table border=\"1\" class=\"dataframe\">\n  <thead>\n    <tr style=\"text-align: right;\">\n      <th></th>\n      <th>Date</th>\n      <th>Open</th>\n      <th>High</th>\n      <th>Low</th>\n      <th>Close</th>\n      <th>Adj Close</th>\n      <th>Volume</th>\n    </tr>\n  </thead>\n  <tbody>\n    <tr>\n      <th>0</th>\n      <td>2018-02-05</td>\n      <td>262.000000</td>\n      <td>267.899994</td>\n      <td>250.029999</td>\n      <td>254.259995</td>\n      <td>254.259995</td>\n      <td>11896100</td>\n    </tr>\n    <tr>\n      <th>1</th>\n      <td>2018-02-06</td>\n      <td>247.699997</td>\n      <td>266.700012</td>\n      <td>245.000000</td>\n      <td>265.720001</td>\n      <td>265.720001</td>\n      <td>12595800</td>\n    </tr>\n    <tr>\n      <th>2</th>\n      <td>2018-02-07</td>\n      <td>266.579987</td>\n      <td>272.450012</td>\n      <td>264.329987</td>\n      <td>264.559998</td>\n      <td>264.559998</td>\n      <td>8981500</td>\n    </tr>\n    <tr>\n      <th>3</th>\n      <td>2018-02-08</td>\n      <td>267.079987</td>\n      <td>267.619995</td>\n      <td>250.000000</td>\n      <td>250.100006</td>\n      <td>250.100006</td>\n      <td>9306700</td>\n    </tr>\n    <tr>\n      <th>4</th>\n      <td>2018-02-09</td>\n      <td>253.850006</td>\n      <td>255.800003</td>\n      <td>236.110001</td>\n      <td>249.470001</td>\n      <td>249.470001</td>\n      <td>16906900</td>\n    </tr>\n  </tbody>\n</table>\n</div>"
     },
     "execution_count": 14,
     "metadata": {},
     "output_type": "execute_result"
    }
   ],
   "source": [
    "import pandas as pd\n",
    "\n",
    "data = pd.read_csv('./NFLX.csv')\n",
    "data.head()"
   ]
  },
  {
   "cell_type": "code",
   "execution_count": 15,
   "outputs": [
    {
     "name": "stdout",
     "output_type": "stream",
     "text": [
      "<class 'pandas.core.frame.DataFrame'>\n",
      "RangeIndex: 1009 entries, 0 to 1008\n",
      "Data columns (total 7 columns):\n",
      " #   Column     Non-Null Count  Dtype  \n",
      "---  ------     --------------  -----  \n",
      " 0   Date       1009 non-null   object \n",
      " 1   Open       1009 non-null   float64\n",
      " 2   High       1009 non-null   float64\n",
      " 3   Low        1009 non-null   float64\n",
      " 4   Close      1009 non-null   float64\n",
      " 5   Adj Close  1009 non-null   float64\n",
      " 6   Volume     1009 non-null   int64  \n",
      "dtypes: float64(5), int64(1), object(1)\n",
      "memory usage: 55.3+ KB\n"
     ]
    }
   ],
   "source": [
    "data.info()"
   ],
   "metadata": {
    "collapsed": false
   }
  },
  {
   "cell_type": "code",
   "execution_count": 16,
   "outputs": [
    {
     "data": {
      "text/plain": "<Figure size 640x480 with 4 Axes>",
      "image/png": "[encoded data removed]"
     },
     "metadata": {},
     "output_type": "display_data"
    }
   ],
   "source": [
    "import matplotlib.pyplot as plt\n",
    "\n",
    "data_used = data.iloc[:, 1:4]  # open, high, low\n",
    "data_used['Close'] = data['Close']\n",
    "hist = data_used.hist()\n",
    "plt.show()"
   ],
   "metadata": {
    "collapsed": false
   }
  },
  {
   "cell_type": "markdown",
   "source": [
    "값 분포 값 넓게 형성되어 있어 정규화가 필요해 보임"
   ],
   "metadata": {
    "collapsed": false
   }
  },
  {
   "cell_type": "code",
   "execution_count": 17,
   "outputs": [],
   "source": [
    "import numpy as np\n",
    "from torch.utils.data.dataset import Dataset\n",
    "\n",
    "\n",
    "class Netflix(Dataset):\n",
    "    def __init__(self):\n",
    "        self.csv = pd.read_csv('./NFLX.csv')\n",
    "\n",
    "        # Normalize\n",
    "        self.data = self.csv.iloc[:, 1:4].values\n",
    "        # self.data = self.data / np.max(self.data)\n",
    "\n",
    "        self.label = data['Close'].values\n",
    "        # self.label = self.label / np.max(self.label)\n",
    "\n",
    "    # 30일치씩 읽을 예정 때문에 전체 길이에서 - 30을 리턴\n",
    "    def __len__(self):\n",
    "        return len(self.data) - 30\n",
    "\n",
    "    def __getitem__(self, item):\n",
    "        data = self.data[item:item + 30]\n",
    "        label = self.label[item + 30]\n",
    "\n",
    "        return data, label"
   ],
   "metadata": {
    "collapsed": false
   }
  },
  {
   "cell_type": "code",
   "execution_count": 18,
   "outputs": [],
   "source": [
    "import torch\n",
    "import torch.nn as nn\n",
    "\n",
    "\n",
    "class RNN(nn.Module):\n",
    "    def __init__(self):\n",
    "        super(RNN, self).__init__()\n",
    "\n",
    "        '''\n",
    "        input size 입력 텐서의 특징 개수(개장가, 최고가, 최저가)\n",
    "        hidden size hidden state의 벡터 크기?, 몇개의 아웃풋을 내보낼 것인지\n",
    "        num layers 쌓을 rnn층 개수 의미, 너무 많이 쌓으면 기울기 폭발하므로 보통 3, 5를 사용\n",
    "        batch first 배치 차원이 가장 앞으로 배치\n",
    "        '''\n",
    "        self.rnn = nn.RNN(input_size=3, hidden_size=8, num_layers=5, batch_first=True)\n",
    "\n",
    "        self.fc1 = nn.Linear(in_features=240, out_features=64)\n",
    "        self.fc2 = nn.Linear(in_features=64, out_features=1)\n",
    "\n",
    "        self.relu = nn.ReLU()\n",
    "\n",
    "    def forward(self, x, h0):\n",
    "        x, hn = self.rnn(x, h0)\n",
    "\n",
    "        x = torch.reshape(x, (x.shape[0], -1))\n",
    "\n",
    "        x = self.fc1(x)\n",
    "        x = self.relu(x)\n",
    "        x = self.fc2(x)\n",
    "\n",
    "        x = torch.flatten(x)\n",
    "\n",
    "        return x"
   ],
   "metadata": {
    "collapsed": false
   }
  },
  {
   "cell_type": "code",
   "execution_count": 19,
   "outputs": [
    {
     "name": "stderr",
     "output_type": "stream",
     "text": [
      "epoch: 0 loss: 209241.734375: 100%|██████████| 31/31 [00:04<00:00,  6.46it/s] \n",
      "epoch: 1 loss: 208797.453125: 100%|██████████| 31/31 [00:04<00:00,  6.42it/s] \n",
      "epoch: 2 loss: 208176.078125: 100%|██████████| 31/31 [00:04<00:00,  6.56it/s] \n",
      "epoch: 3 loss: 207370.90625: 100%|██████████| 31/31 [00:04<00:00,  6.54it/s]  \n",
      "epoch: 4 loss: 206344.53125: 100%|██████████| 31/31 [00:04<00:00,  6.38it/s]  \n",
      "epoch: 5 loss: 205084.265625: 100%|██████████| 31/31 [00:04<00:00,  6.44it/s] \n",
      "epoch: 6 loss: 203595.921875: 100%|██████████| 31/31 [00:04<00:00,  6.50it/s] \n",
      "epoch: 7 loss: 201889.046875: 100%|██████████| 31/31 [00:04<00:00,  6.47it/s] \n",
      "epoch: 8 loss: 199965.765625: 100%|██████████| 31/31 [00:04<00:00,  6.45it/s]\n",
      "epoch: 9 loss: 197824.765625: 100%|██████████| 31/31 [00:04<00:00,  6.43it/s] \n",
      "epoch: 10 loss: 195470.234375: 100%|██████████| 31/31 [00:04<00:00,  6.49it/s] \n",
      "epoch: 11 loss: 192912.875: 100%|██████████| 31/31 [00:04<00:00,  6.40it/s]    \n",
      "epoch: 12 loss: 190165.71875: 100%|██████████| 31/31 [00:04<00:00,  6.43it/s]  \n",
      "epoch: 13 loss: 187241.6875: 100%|██████████| 31/31 [00:04<00:00,  6.53it/s]   \n",
      "epoch: 14 loss: 184154.890625: 100%|██████████| 31/31 [00:04<00:00,  6.59it/s] \n",
      "epoch: 15 loss: 180923.453125: 100%|██████████| 31/31 [00:04<00:00,  6.56it/s] \n",
      "epoch: 16 loss: 177570.9375: 100%|██████████| 31/31 [00:04<00:00,  6.53it/s]   \n",
      "epoch: 17 loss: 174122.953125: 100%|██████████| 31/31 [00:04<00:00,  6.51it/s] \n",
      "epoch: 18 loss: 170602.421875: 100%|██████████| 31/31 [00:04<00:00,  6.38it/s] \n",
      "epoch: 19 loss: 167027.296875: 100%|██████████| 31/31 [00:04<00:00,  6.48it/s] \n",
      "epoch: 20 loss: 163410.921875: 100%|██████████| 31/31 [00:04<00:00,  6.57it/s] \n",
      "epoch: 21 loss: 159564.390625: 100%|██████████| 31/31 [00:04<00:00,  6.54it/s]\n",
      "epoch: 22 loss: 155675.65625: 100%|██████████| 31/31 [00:04<00:00,  6.56it/s]  \n",
      "epoch: 23 loss: 151773.21875: 100%|██████████| 31/31 [00:04<00:00,  6.63it/s] \n",
      "epoch: 24 loss: 147862.796875: 100%|██████████| 31/31 [00:04<00:00,  6.52it/s] \n",
      "epoch: 25 loss: 143950.296875: 100%|██████████| 31/31 [00:04<00:00,  6.53it/s]\n",
      "epoch: 26 loss: 140041.171875: 100%|██████████| 31/31 [00:04<00:00,  6.52it/s]\n",
      "epoch: 27 loss: 136140.734375: 100%|██████████| 31/31 [00:04<00:00,  6.52it/s] \n",
      "epoch: 28 loss: 132253.921875: 100%|██████████| 31/31 [00:04<00:00,  6.54it/s] \n",
      "epoch: 29 loss: 128385.5546875: 100%|██████████| 31/31 [00:04<00:00,  6.54it/s]\n",
      "epoch: 30 loss: 124540.109375: 100%|██████████| 31/31 [00:04<00:00,  6.54it/s] \n",
      "epoch: 31 loss: 120722.078125: 100%|██████████| 31/31 [00:04<00:00,  6.57it/s] \n",
      "epoch: 32 loss: 116935.6875: 100%|██████████| 31/31 [00:05<00:00,  6.12it/s]   \n",
      "epoch: 33 loss: 113185.015625: 100%|██████████| 31/31 [00:04<00:00,  6.35it/s]  \n",
      "epoch: 34 loss: 109474.046875: 100%|██████████| 31/31 [00:05<00:00,  5.84it/s] \n",
      "epoch: 35 loss: 105806.5234375: 100%|██████████| 31/31 [00:05<00:00,  6.01it/s] \n",
      "epoch: 36 loss: 102186.15625: 100%|██████████| 31/31 [00:05<00:00,  6.08it/s]  \n",
      "epoch: 37 loss: 98616.4453125: 100%|██████████| 31/31 [00:05<00:00,  6.18it/s]  \n",
      "epoch: 38 loss: 95100.6875: 100%|██████████| 31/31 [00:04<00:00,  6.24it/s]     \n",
      "epoch: 39 loss: 91642.0546875: 100%|██████████| 31/31 [00:04<00:00,  6.24it/s]  \n",
      "epoch: 40 loss: 88243.5390625: 100%|██████████| 31/31 [00:04<00:00,  6.24it/s] \n",
      "epoch: 41 loss: 84907.9921875: 100%|██████████| 31/31 [00:04<00:00,  6.29it/s]   \n",
      "epoch: 42 loss: 81637.984375: 100%|██████████| 31/31 [00:04<00:00,  6.25it/s]   \n",
      "epoch: 43 loss: 78436.015625: 100%|██████████| 31/31 [00:04<00:00,  6.25it/s]    \n",
      "epoch: 44 loss: 75304.3203125: 100%|██████████| 31/31 [00:04<00:00,  6.27it/s]   \n",
      "epoch: 45 loss: 72245.015625: 100%|██████████| 31/31 [00:04<00:00,  6.24it/s]    \n",
      "epoch: 46 loss: 69259.8984375: 100%|██████████| 31/31 [00:05<00:00,  6.00it/s]   \n",
      "epoch: 47 loss: 66350.6875: 100%|██████████| 31/31 [00:05<00:00,  6.16it/s]     \n",
      "epoch: 48 loss: 63518.8359375: 100%|██████████| 31/31 [00:05<00:00,  6.12it/s]   \n",
      "epoch: 49 loss: 60765.6171875: 100%|██████████| 31/31 [00:05<00:00,  6.12it/s]   \n",
      "epoch: 50 loss: 58092.14453125: 100%|██████████| 31/31 [00:05<00:00,  6.17it/s] \n",
      "epoch: 51 loss: 55499.23046875: 100%|██████████| 31/31 [00:04<00:00,  6.30it/s]  \n",
      "epoch: 52 loss: 52987.57421875: 100%|██████████| 31/31 [00:04<00:00,  6.32it/s]   \n",
      "epoch: 53 loss: 50557.68359375: 100%|██████████| 31/31 [00:04<00:00,  6.22it/s]  \n",
      "epoch: 54 loss: 48209.78515625: 100%|██████████| 31/31 [00:04<00:00,  6.29it/s]   \n",
      "epoch: 55 loss: 45944.00390625: 100%|██████████| 31/31 [00:04<00:00,  6.32it/s]   \n",
      "epoch: 56 loss: 43760.1953125: 100%|██████████| 31/31 [00:04<00:00,  6.22it/s]    \n",
      "epoch: 57 loss: 41658.1171875: 100%|██████████| 31/31 [00:04<00:00,  6.29it/s]    \n",
      "epoch: 58 loss: 39637.32421875: 100%|██████████| 31/31 [00:04<00:00,  6.26it/s]    \n",
      "epoch: 59 loss: 37697.13671875: 100%|██████████| 31/31 [00:04<00:00,  6.26it/s]    \n",
      "epoch: 60 loss: 35836.76953125: 100%|██████████| 31/31 [00:04<00:00,  6.26it/s]   \n",
      "epoch: 61 loss: 34055.2421875: 100%|██████████| 31/31 [00:04<00:00,  6.27it/s]    \n",
      "epoch: 62 loss: 32351.4609375: 100%|██████████| 31/31 [00:04<00:00,  6.28it/s]     \n",
      "epoch: 63 loss: 30724.173828125: 100%|██████████| 31/31 [00:04<00:00,  6.31it/s]   \n",
      "epoch: 64 loss: 29171.94140625: 100%|██████████| 31/31 [00:04<00:00,  6.31it/s]    \n",
      "epoch: 65 loss: 27693.296875: 100%|██████████| 31/31 [00:04<00:00,  6.28it/s]      \n",
      "epoch: 66 loss: 26286.5625: 100%|██████████| 31/31 [00:04<00:00,  6.24it/s]        \n",
      "epoch: 67 loss: 24949.99609375: 100%|██████████| 31/31 [00:04<00:00,  6.30it/s]   \n",
      "epoch: 68 loss: 23681.736328125: 100%|██████████| 31/31 [00:04<00:00,  6.29it/s]   \n",
      "epoch: 69 loss: 22479.85546875: 100%|██████████| 31/31 [00:04<00:00,  6.31it/s]    \n",
      "epoch: 70 loss: 21342.46484375: 100%|██████████| 31/31 [00:04<00:00,  6.23it/s]    \n",
      "epoch: 71 loss: 20267.2890625: 100%|██████████| 31/31 [00:04<00:00,  6.29it/s]    \n",
      "epoch: 72 loss: 19252.40625: 100%|██████████| 31/31 [00:04<00:00,  6.29it/s]       \n",
      "epoch: 73 loss: 18295.453125: 100%|██████████| 31/31 [00:04<00:00,  6.31it/s]     \n",
      "epoch: 74 loss: 17394.380859375: 100%|██████████| 31/31 [00:04<00:00,  6.24it/s]  \n",
      "epoch: 75 loss: 16546.859375: 100%|██████████| 31/31 [00:04<00:00,  6.26it/s]      \n",
      "epoch: 76 loss: 15750.7431640625: 100%|██████████| 31/31 [00:04<00:00,  6.26it/s]  \n",
      "epoch: 77 loss: 15003.7236328125: 100%|██████████| 31/31 [00:04<00:00,  6.21it/s]  \n",
      "epoch: 78 loss: 14303.615234375: 100%|██████████| 31/31 [00:04<00:00,  6.30it/s]   \n",
      "epoch: 79 loss: 13648.177734375: 100%|██████████| 31/31 [00:04<00:00,  6.29it/s]   \n",
      "epoch: 80 loss: 13035.232421875: 100%|██████████| 31/31 [00:05<00:00,  6.19it/s]  \n",
      "epoch: 81 loss: 12462.623046875: 100%|██████████| 31/31 [00:04<00:00,  6.22it/s]   \n",
      "epoch: 82 loss: 11928.232421875: 100%|██████████| 31/31 [00:04<00:00,  6.29it/s]   \n",
      "epoch: 83 loss: 11429.9970703125: 100%|██████████| 31/31 [00:04<00:00,  6.31it/s]  \n",
      "epoch: 84 loss: 10965.9052734375: 100%|██████████| 31/31 [00:04<00:00,  6.29it/s] \n",
      "epoch: 85 loss: 10533.9833984375: 100%|██████████| 31/31 [00:04<00:00,  6.31it/s]  \n",
      "epoch: 86 loss: 10132.3603515625: 100%|██████████| 31/31 [00:04<00:00,  6.25it/s]  \n",
      "epoch: 87 loss: 9759.1767578125: 100%|██████████| 31/31 [00:04<00:00,  6.28it/s]   \n",
      "epoch: 88 loss: 9412.7060546875: 100%|██████████| 31/31 [00:04<00:00,  6.29it/s]   \n",
      "epoch: 89 loss: 9091.2373046875: 100%|██████████| 31/31 [00:05<00:00,  6.19it/s]  \n",
      "epoch: 90 loss: 8793.154296875: 100%|██████████| 31/31 [00:04<00:00,  6.28it/s]    \n",
      "epoch: 91 loss: 8516.927734375: 100%|██████████| 31/31 [00:04<00:00,  6.37it/s]    \n",
      "epoch: 92 loss: 8261.10546875: 100%|██████████| 31/31 [00:04<00:00,  6.37it/s]     \n",
      "epoch: 93 loss: 8024.2861328125: 100%|██████████| 31/31 [00:04<00:00,  6.30it/s]  \n",
      "epoch: 94 loss: 7805.15625: 100%|██████████| 31/31 [00:04<00:00,  6.31it/s]        \n",
      "epoch: 95 loss: 7602.43994140625: 100%|██████████| 31/31 [00:04<00:00,  6.30it/s] \n",
      "epoch: 96 loss: 7415.021484375: 100%|██████████| 31/31 [00:04<00:00,  6.26it/s]    \n",
      "epoch: 97 loss: 7241.7705078125: 100%|██████████| 31/31 [00:04<00:00,  6.30it/s]   \n",
      "epoch: 98 loss: 7081.650390625: 100%|██████████| 31/31 [00:04<00:00,  6.26it/s]   \n",
      "epoch: 99 loss: 6933.69921875: 100%|██████████| 31/31 [00:04<00:00,  6.27it/s]    \n",
      "epoch: 100 loss: 6797.01220703125: 100%|██████████| 31/31 [00:04<00:00,  6.28it/s] \n",
      "epoch: 101 loss: 6670.7470703125: 100%|██████████| 31/31 [00:04<00:00,  6.27it/s]   \n",
      "epoch: 102 loss: 6554.1142578125: 100%|██████████| 31/31 [00:04<00:00,  6.26it/s]  \n",
      "epoch: 103 loss: 6446.38916015625: 100%|██████████| 31/31 [00:04<00:00,  6.23it/s] \n",
      "epoch: 104 loss: 6346.8876953125: 100%|██████████| 31/31 [00:04<00:00,  6.30it/s]   \n",
      "epoch: 105 loss: 6254.97802734375: 100%|██████████| 31/31 [00:05<00:00,  6.19it/s] \n",
      "epoch: 106 loss: 6170.0771484375: 100%|██████████| 31/31 [00:04<00:00,  6.30it/s]   \n",
      "epoch: 107 loss: 6091.64501953125: 100%|██████████| 31/31 [00:04<00:00,  6.28it/s] \n",
      "epoch: 108 loss: 6019.177734375: 100%|██████████| 31/31 [00:04<00:00,  6.25it/s]    \n",
      "epoch: 109 loss: 5952.21337890625: 100%|██████████| 31/31 [00:04<00:00,  6.27it/s] \n",
      "epoch: 110 loss: 5890.33642578125: 100%|██████████| 31/31 [00:04<00:00,  6.20it/s] \n",
      "epoch: 111 loss: 5833.138671875: 100%|██████████| 31/31 [00:04<00:00,  6.31it/s]   \n",
      "epoch: 112 loss: 5780.26708984375: 100%|██████████| 31/31 [00:04<00:00,  6.27it/s] \n",
      "epoch: 113 loss: 5731.375: 100%|██████████| 31/31 [00:04<00:00,  6.30it/s]         \n",
      "epoch: 114 loss: 5686.1708984375: 100%|██████████| 31/31 [00:04<00:00,  6.28it/s]  \n",
      "epoch: 115 loss: 5644.3505859375: 100%|██████████| 31/31 [00:04<00:00,  6.28it/s]  \n",
      "epoch: 116 loss: 5605.6611328125: 100%|██████████| 31/31 [00:04<00:00,  6.26it/s]  \n",
      "epoch: 117 loss: 5569.86767578125: 100%|██████████| 31/31 [00:04<00:00,  6.29it/s] \n",
      "epoch: 118 loss: 5536.73779296875: 100%|██████████| 31/31 [00:05<00:00,  6.20it/s] \n",
      "epoch: 119 loss: 5506.076171875: 100%|██████████| 31/31 [00:04<00:00,  6.22it/s]   \n",
      "epoch: 120 loss: 5477.68505859375: 100%|██████████| 31/31 [00:04<00:00,  6.22it/s]\n",
      "epoch: 121 loss: 5451.39990234375: 100%|██████████| 31/31 [00:05<00:00,  6.15it/s] \n",
      "epoch: 122 loss: 5427.05615234375: 100%|██████████| 31/31 [00:05<00:00,  6.19it/s] \n",
      "epoch: 123 loss: 5404.5068359375: 100%|██████████| 31/31 [00:05<00:00,  6.09it/s]  \n",
      "epoch: 124 loss: 5383.61669921875: 100%|██████████| 31/31 [00:04<00:00,  6.22it/s] \n",
      "epoch: 125 loss: 5364.2705078125: 100%|██████████| 31/31 [00:04<00:00,  6.28it/s]  \n",
      "epoch: 126 loss: 5346.33642578125: 100%|██████████| 31/31 [00:05<00:00,  6.19it/s]\n",
      "epoch: 127 loss: 5329.7177734375: 100%|██████████| 31/31 [00:04<00:00,  6.26it/s]  \n",
      "epoch: 128 loss: 5314.31396484375: 100%|██████████| 31/31 [00:05<00:00,  6.16it/s] \n",
      "epoch: 129 loss: 5300.04052734375: 100%|██████████| 31/31 [00:04<00:00,  6.25it/s] \n",
      "epoch: 130 loss: 5286.8046875: 100%|██████████| 31/31 [00:04<00:00,  6.28it/s]     \n",
      "epoch: 131 loss: 5274.53466796875: 100%|██████████| 31/31 [00:04<00:00,  6.24it/s] \n",
      "epoch: 132 loss: 5263.1552734375: 100%|██████████| 31/31 [00:04<00:00,  6.24it/s]  \n",
      "epoch: 133 loss: 5252.6162109375: 100%|██████████| 31/31 [00:05<00:00,  6.07it/s]  \n",
      "epoch: 134 loss: 5242.83544921875: 100%|██████████| 31/31 [00:05<00:00,  6.18it/s] \n",
      "epoch: 135 loss: 5233.76416015625: 100%|██████████| 31/31 [00:05<00:00,  6.18it/s] \n",
      "epoch: 136 loss: 5225.35302734375: 100%|██████████| 31/31 [00:05<00:00,  6.19it/s] \n",
      "epoch: 137 loss: 5217.55078125: 100%|██████████| 31/31 [00:05<00:00,  6.12it/s]    \n",
      "epoch: 138 loss: 5210.3193359375: 100%|██████████| 31/31 [00:05<00:00,  6.02it/s]  \n",
      "epoch: 139 loss: 5203.6083984375: 100%|██████████| 31/31 [00:05<00:00,  6.19it/s]  \n",
      "epoch: 140 loss: 5197.38623046875: 100%|██████████| 31/31 [00:05<00:00,  6.18it/s]\n",
      "epoch: 141 loss: 5191.6201171875: 100%|██████████| 31/31 [00:05<00:00,  6.03it/s]  \n",
      "epoch: 142 loss: 5186.2705078125: 100%|██████████| 31/31 [00:05<00:00,  5.95it/s]  \n",
      "epoch: 143 loss: 5181.30908203125: 100%|██████████| 31/31 [00:05<00:00,  6.10it/s] \n",
      "epoch: 144 loss: 5176.70751953125: 100%|██████████| 31/31 [00:05<00:00,  6.05it/s] \n",
      "epoch: 145 loss: 5172.4384765625: 100%|██████████| 31/31 [00:05<00:00,  5.93it/s]  \n",
      "epoch: 146 loss: 5168.48193359375: 100%|██████████| 31/31 [00:05<00:00,  5.98it/s]\n",
      "epoch: 147 loss: 5164.8115234375: 100%|██████████| 31/31 [00:05<00:00,  6.18it/s] \n",
      "epoch: 148 loss: 5161.41064453125: 100%|██████████| 31/31 [00:05<00:00,  6.15it/s] \n",
      "epoch: 149 loss: 5158.25390625: 100%|██████████| 31/31 [00:04<00:00,  6.20it/s]    \n",
      "epoch: 150 loss: 5155.328125: 100%|██████████| 31/31 [00:05<00:00,  6.18it/s]     \n",
      "epoch: 151 loss: 5152.615234375: 100%|██████████| 31/31 [00:04<00:00,  6.22it/s]   \n",
      "epoch: 152 loss: 5150.1005859375: 100%|██████████| 31/31 [00:05<00:00,  6.15it/s]  \n",
      "epoch: 153 loss: 5147.771484375: 100%|██████████| 31/31 [00:05<00:00,  6.18it/s]   \n",
      "epoch: 154 loss: 5145.60791015625: 100%|██████████| 31/31 [00:05<00:00,  6.17it/s] \n",
      "epoch: 155 loss: 5143.607421875: 100%|██████████| 31/31 [00:04<00:00,  6.21it/s]   \n",
      "epoch: 156 loss: 5141.7509765625: 100%|██████████| 31/31 [00:05<00:00,  6.14it/s]  \n",
      "epoch: 157 loss: 5140.02685546875: 100%|██████████| 31/31 [00:04<00:00,  6.21it/s] \n",
      "epoch: 158 loss: 5138.43115234375: 100%|██████████| 31/31 [00:05<00:00,  6.18it/s] \n",
      "epoch: 159 loss: 5136.9541015625: 100%|██████████| 31/31 [00:05<00:00,  6.14it/s] \n",
      "epoch: 160 loss: 5135.5830078125: 100%|██████████| 31/31 [00:05<00:00,  6.03it/s] \n",
      "epoch: 161 loss: 5134.31005859375: 100%|██████████| 31/31 [00:05<00:00,  5.97it/s]\n",
      "epoch: 162 loss: 5133.13330078125: 100%|██████████| 31/31 [00:04<00:00,  6.24it/s] \n",
      "epoch: 163 loss: 5132.04541015625: 100%|██████████| 31/31 [00:04<00:00,  6.29it/s] \n",
      "epoch: 164 loss: 5131.033203125: 100%|██████████| 31/31 [00:05<00:00,  6.20it/s]   \n",
      "epoch: 165 loss: 5130.09619140625: 100%|██████████| 31/31 [00:05<00:00,  6.17it/s] \n",
      "epoch: 166 loss: 5129.2294921875: 100%|██████████| 31/31 [00:05<00:00,  6.18it/s]  \n",
      "epoch: 167 loss: 5128.42919921875: 100%|██████████| 31/31 [00:04<00:00,  6.22it/s] \n",
      "epoch: 168 loss: 5127.68017578125: 100%|██████████| 31/31 [00:05<00:00,  6.02it/s] \n",
      "epoch: 169 loss: 5126.9892578125: 100%|██████████| 31/31 [00:05<00:00,  5.95it/s]  \n",
      "epoch: 170 loss: 5126.35400390625: 100%|██████████| 31/31 [00:05<00:00,  5.94it/s] \n",
      "epoch: 171 loss: 5125.7646484375: 100%|██████████| 31/31 [00:05<00:00,  6.09it/s]  \n",
      "epoch: 172 loss: 5125.21728515625: 100%|██████████| 31/31 [00:05<00:00,  6.13it/s] \n",
      "epoch: 173 loss: 5124.70654296875: 100%|██████████| 31/31 [00:05<00:00,  6.10it/s] \n",
      "epoch: 174 loss: 5124.23583984375: 100%|██████████| 31/31 [00:05<00:00,  5.86it/s] \n",
      "epoch: 175 loss: 5123.79833984375: 100%|██████████| 31/31 [00:04<00:00,  6.39it/s] \n",
      "epoch: 176 loss: 5123.39208984375: 100%|██████████| 31/31 [00:05<00:00,  5.94it/s] \n",
      "epoch: 177 loss: 5123.01904296875: 100%|██████████| 31/31 [00:05<00:00,  5.97it/s] \n",
      "epoch: 178 loss: 5122.67431640625: 100%|██████████| 31/31 [00:05<00:00,  6.14it/s] \n",
      "epoch: 179 loss: 5122.35205078125: 100%|██████████| 31/31 [00:05<00:00,  5.83it/s] \n",
      "epoch: 180 loss: 5122.05517578125: 100%|██████████| 31/31 [00:05<00:00,  6.20it/s] \n",
      "epoch: 181 loss: 5121.7822265625: 100%|██████████| 31/31 [00:05<00:00,  6.13it/s]  \n",
      "epoch: 182 loss: 5121.52880859375: 100%|██████████| 31/31 [00:05<00:00,  6.11it/s] \n",
      "epoch: 183 loss: 5121.29052734375: 100%|██████████| 31/31 [00:05<00:00,  6.10it/s] \n",
      "epoch: 184 loss: 5121.072265625: 100%|██████████| 31/31 [00:05<00:00,  6.14it/s]   \n",
      "epoch: 185 loss: 5120.8701171875: 100%|██████████| 31/31 [00:05<00:00,  6.08it/s]  \n",
      "epoch: 186 loss: 5120.68115234375: 100%|██████████| 31/31 [00:05<00:00,  6.13it/s] \n",
      "epoch: 187 loss: 5120.513671875: 100%|██████████| 31/31 [00:05<00:00,  6.15it/s]   \n",
      "epoch: 188 loss: 5120.34619140625: 100%|██████████| 31/31 [00:05<00:00,  6.09it/s] \n",
      "epoch: 189 loss: 5120.2021484375: 100%|██████████| 31/31 [00:05<00:00,  6.17it/s]  \n",
      "epoch: 190 loss: 5120.0693359375: 100%|██████████| 31/31 [00:05<00:00,  6.10it/s]  \n",
      "epoch: 191 loss: 5119.9384765625: 100%|██████████| 31/31 [00:05<00:00,  6.09it/s]  \n",
      "epoch: 192 loss: 5119.81884765625: 100%|██████████| 31/31 [00:05<00:00,  6.11it/s] \n",
      "epoch: 193 loss: 5119.71142578125: 100%|██████████| 31/31 [00:05<00:00,  6.04it/s] \n",
      "epoch: 194 loss: 5119.60791015625: 100%|██████████| 31/31 [00:05<00:00,  6.08it/s] \n",
      "epoch: 195 loss: 5119.51318359375: 100%|██████████| 31/31 [00:05<00:00,  6.00it/s] \n",
      "epoch: 196 loss: 5119.42578125: 100%|██████████| 31/31 [00:05<00:00,  6.14it/s]    \n",
      "epoch: 197 loss: 5119.349609375: 100%|██████████| 31/31 [00:05<00:00,  6.05it/s]   \n",
      "epoch: 198 loss: 5119.271484375: 100%|██████████| 31/31 [00:04<00:00,  6.20it/s]   \n",
      "epoch: 199 loss: 5119.2041015625: 100%|██████████| 31/31 [00:05<00:00,  6.16it/s]  \n"
     ]
    }
   ],
   "source": [
    "import tqdm\n",
    "\n",
    "from torch.optim.adam import Adam\n",
    "from torch.utils.data.dataloader import DataLoader\n",
    "\n",
    "device = 'mps' if torch.backends.mps.is_available() else 'cpu'\n",
    "\n",
    "model = RNN().to(device)\n",
    "dataset = Netflix()\n",
    "\n",
    "loader = DataLoader(dataset, batch_size=32)\n",
    "\n",
    "optim = Adam(params=model.parameters(), lr=0.0001)\n",
    "\n",
    "for epoch in range(200):\n",
    "    iterator = tqdm.tqdm(loader)\n",
    "    for data, label in iterator:\n",
    "        optim.zero_grad()\n",
    "\n",
    "        h0 = torch.zeros(5, data.shape[0], 8).to(device)\n",
    "\n",
    "        pred = model(data.type(torch.FloatTensor).to(device), h0)\n",
    "\n",
    "        loss = nn.MSELoss()(pred, label.type(torch.FloatTensor).to(device))\n",
    "        loss.backward()\n",
    "        optim.step()\n",
    "\n",
    "        iterator.set_description(f'epoch: {epoch} loss: {loss.item()}')\n",
    "\n",
    "torch.save(model.state_dict(), './rnn.pth')"
   ],
   "metadata": {
    "collapsed": false
   }
  },
  {
   "cell_type": "code",
   "execution_count": 20,
   "outputs": [],
   "source": [
    "import matplotlib.pyplot as plt\n",
    "\n",
    "loader = DataLoader(dataset, batch_size=1)\n",
    "\n",
    "preds = []\n",
    "total_loss = 0\n",
    "\n",
    "with torch.no_grad():\n",
    "    model.load_state_dict(torch.load('./rnn.pth', map_location=device))\n",
    "\n",
    "    for data, label in loader:\n",
    "        h0 = torch.zeros(5, data.shape[0], 8).to(device)\n",
    "\n",
    "        pred = model(data.type(torch.FloatTensor).to(device), h0)\n",
    "        preds.append(pred.item())\n",
    "\n",
    "        loss = nn.MSELoss()(pred, label.type(torch.FloatTensor).to(device))\n",
    "\n",
    "        total_loss += loss / len(loader)"
   ],
   "metadata": {
    "collapsed": false
   }
  },
  {
   "cell_type": "code",
   "execution_count": 21,
   "outputs": [
    {
     "data": {
      "text/plain": "11539.416015625"
     },
     "execution_count": 21,
     "metadata": {},
     "output_type": "execute_result"
    }
   ],
   "source": [
    "total_loss.item()  # 정규화 제거시 학습이 안됨"
   ],
   "metadata": {
    "collapsed": false
   }
  },
  {
   "cell_type": "code",
   "execution_count": 22,
   "outputs": [
    {
     "data": {
      "text/plain": "<Figure size 640x480 with 1 Axes>",
      "image/png": "[encoded data removed]"
     },
     "metadata": {},
     "output_type": "display_data"
    }
   ],
   "source": [
    "plt.plot(preds, label='prediction')\n",
    "plt.plot(dataset.label[30:], label='actual')\n",
    "plt.legend()\n",
    "plt.show()"
   ],
   "metadata": {
    "collapsed": false
   }
  },
  {
   "cell_type": "code",
   "execution_count": 22,
   "outputs": [],
   "source": [],
   "metadata": {
    "collapsed": false
   }
  }
 ],
 "metadata": {
  "kernelspec": {
   "display_name": "Python 3",
   "language": "python",
   "name": "python3"
  },
  "language_info": {
   "codemirror_mode": {
    "name": "ipython",
    "version": 2
   },
   "file_extension": ".py",
   "mimetype": "text/x-python",
   "name": "python",
   "nbconvert_exporter": "python",
   "pygments_lexer": "ipython2",
   "version": "2.7.6"
  }
 },
 "nbformat": 4,
 "nbformat_minor": 0
}
