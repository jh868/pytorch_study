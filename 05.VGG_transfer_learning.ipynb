{
 "cells": [
  {
   "cell_type": "code",
   "execution_count": 1,
   "metadata": {
    "collapsed": true
   },
   "outputs": [
    {
     "name": "stderr",
     "output_type": "stream",
     "text": [
      "C:\\Miniconda\\envs\\test\\lib\\site-packages\\torchvision\\models\\_utils.py:208: UserWarning: The parameter 'pretrained' is deprecated since 0.13 and will be removed in 0.15, please use 'weights' instead.\n",
      "  warnings.warn(\n",
      "C:\\Miniconda\\envs\\test\\lib\\site-packages\\torchvision\\models\\_utils.py:223: UserWarning: Arguments other than a weight enum or `None` for 'weights' are deprecated since 0.13 and will be removed in 0.15. The current behavior is equivalent to passing `weights=VGG16_Weights.IMAGENET1K_V1`. You can also use `weights=VGG16_Weights.DEFAULT` to get the most up-to-date weights.\n",
      "  warnings.warn(msg)\n",
      "Downloading: \"https://download.pytorch.org/models/vgg16-397923af.pth\" to C:\\Users\\labadmin/.cache\\torch\\hub\\checkpoints\\vgg16-397923af.pth\n"
     ]
    },
    {
     "data": {
      "text/plain": "  0%|          | 0.00/528M [00:00<?, ?B/s]",
      "application/vnd.jupyter.widget-view+json": {
       "version_major": 2,
       "version_minor": 0,
       "model_id": "fe14685ba43743aa88af9ac8b937eb6f"
      }
     },
     "metadata": {},
     "output_type": "display_data"
    },
    {
     "data": {
      "text/plain": "VGG(\n  (features): Sequential(\n    (0): Conv2d(3, 64, kernel_size=(3, 3), stride=(1, 1), padding=(1, 1))\n    (1): ReLU(inplace=True)\n    (2): Conv2d(64, 64, kernel_size=(3, 3), stride=(1, 1), padding=(1, 1))\n    (3): ReLU(inplace=True)\n    (4): MaxPool2d(kernel_size=2, stride=2, padding=0, dilation=1, ceil_mode=False)\n    (5): Conv2d(64, 128, kernel_size=(3, 3), stride=(1, 1), padding=(1, 1))\n    (6): ReLU(inplace=True)\n    (7): Conv2d(128, 128, kernel_size=(3, 3), stride=(1, 1), padding=(1, 1))\n    (8): ReLU(inplace=True)\n    (9): MaxPool2d(kernel_size=2, stride=2, padding=0, dilation=1, ceil_mode=False)\n    (10): Conv2d(128, 256, kernel_size=(3, 3), stride=(1, 1), padding=(1, 1))\n    (11): ReLU(inplace=True)\n    (12): Conv2d(256, 256, kernel_size=(3, 3), stride=(1, 1), padding=(1, 1))\n    (13): ReLU(inplace=True)\n    (14): Conv2d(256, 256, kernel_size=(3, 3), stride=(1, 1), padding=(1, 1))\n    (15): ReLU(inplace=True)\n    (16): MaxPool2d(kernel_size=2, stride=2, padding=0, dilation=1, ceil_mode=False)\n    (17): Conv2d(256, 512, kernel_size=(3, 3), stride=(1, 1), padding=(1, 1))\n    (18): ReLU(inplace=True)\n    (19): Conv2d(512, 512, kernel_size=(3, 3), stride=(1, 1), padding=(1, 1))\n    (20): ReLU(inplace=True)\n    (21): Conv2d(512, 512, kernel_size=(3, 3), stride=(1, 1), padding=(1, 1))\n    (22): ReLU(inplace=True)\n    (23): MaxPool2d(kernel_size=2, stride=2, padding=0, dilation=1, ceil_mode=False)\n    (24): Conv2d(512, 512, kernel_size=(3, 3), stride=(1, 1), padding=(1, 1))\n    (25): ReLU(inplace=True)\n    (26): Conv2d(512, 512, kernel_size=(3, 3), stride=(1, 1), padding=(1, 1))\n    (27): ReLU(inplace=True)\n    (28): Conv2d(512, 512, kernel_size=(3, 3), stride=(1, 1), padding=(1, 1))\n    (29): ReLU(inplace=True)\n    (30): MaxPool2d(kernel_size=2, stride=2, padding=0, dilation=1, ceil_mode=False)\n  )\n  (avgpool): AdaptiveAvgPool2d(output_size=(7, 7))\n  (classifier): Sequential(\n    (0): Linear(in_features=25088, out_features=4096, bias=True)\n    (1): ReLU()\n    (2): Dropout(p=0.5, inplace=False)\n    (3): Linear(in_features=4096, out_features=4096, bias=True)\n    (4): ReLU()\n    (5): Dropout(p=0.5, inplace=False)\n    (6): Linear(in_features=4096, out_features=10, bias=True)\n  )\n)"
     },
     "execution_count": 1,
     "metadata": {},
     "output_type": "execute_result"
    }
   ],
   "source": [
    "# 사전 학습된 모델 불러오기\n",
    "import torch\n",
    "import torch.nn as nn\n",
    "from torchvision.models.vgg import vgg16\n",
    "\n",
    "device = 'cuda' if torch.cuda.is_available() else 'cpu'\n",
    "\n",
    "model = vgg16(pretrained=True)  # vgg 모델 객체 생성\n",
    "fc = nn.Sequential(  # 분류층 정의\n",
    "    nn.Linear(512 * 7 * 7, 4096),\n",
    "    nn.ReLU(),\n",
    "    nn.Dropout(),\n",
    "    nn.Linear(4096, 4096),\n",
    "    nn.ReLU(),\n",
    "    nn.Dropout(),\n",
    "    nn.Linear(4096, 10)\n",
    ")\n",
    "\n",
    "model.classifier = fc  # vgg의 classifier를 덮어씀\n",
    "model.to(device)"
   ]
  },
  {
   "cell_type": "code",
   "execution_count": 2,
   "outputs": [],
   "source": [
    "import tqdm\n",
    "\n",
    "from torchvision.datasets.cifar import CIFAR10\n",
    "from torchvision.transforms import Compose, ToTensor, Resize\n",
    "from torchvision.transforms import RandomHorizontalFlip, RandomCrop, Normalize\n",
    "from torch.utils.data.dataloader import DataLoader\n",
    "\n",
    "from torch.optim.adam import Adam\n",
    "\n",
    "transforms = Compose([\n",
    "    Resize(224),\n",
    "    RandomCrop((224,224), padding=4),\n",
    "    RandomHorizontalFlip(p=0.5),\n",
    "    ToTensor(),\n",
    "    Normalize(mean=(0.4914, 0.4822, 0.4465), std=(0.247, 0.243, 0.261))\n",
    "])"
   ],
   "metadata": {
    "collapsed": false
   }
  },
  {
   "cell_type": "code",
   "execution_count": 3,
   "outputs": [
    {
     "name": "stdout",
     "output_type": "stream",
     "text": [
      "Files already downloaded and verified\n",
      "Files already downloaded and verified\n"
     ]
    }
   ],
   "source": [
    "train_data = CIFAR10(root='./', train=True, download=True, transform=transforms)\n",
    "test_data = CIFAR10(root='./', train=False, download=True, transform=transforms)\n",
    "\n",
    "train_loader = DataLoader(train_data, batch_size=32, shuffle=True)\n",
    "test_loader = DataLoader(test_data, batch_size=32, shuffle=False)"
   ],
   "metadata": {
    "collapsed": false
   }
  },
  {
   "cell_type": "code",
   "execution_count": 4,
   "outputs": [
    {
     "name": "stderr",
     "output_type": "stream",
     "text": [
      "epoch: 1 loss: 0.4841863811016083: 100%|██████████| 1563/1563 [21:41<00:00,  1.20it/s] \n",
      "epoch: 2 loss: 1.2209421396255493: 100%|██████████| 1563/1563 [10:49<00:00,  2.41it/s]  \n",
      "epoch: 3 loss: 0.03848566114902496: 100%|██████████| 1563/1563 [08:20<00:00,  3.13it/s] \n",
      "epoch: 4 loss: 0.4619798958301544: 100%|██████████| 1563/1563 [06:40<00:00,  3.90it/s]  \n",
      "epoch: 5 loss: 0.3629506826400757: 100%|██████████| 1563/1563 [06:27<00:00,  4.04it/s]  \n",
      "epoch: 6 loss: 0.44129490852355957: 100%|██████████| 1563/1563 [06:30<00:00,  4.01it/s]  \n",
      "epoch: 7 loss: 0.031058967113494873: 100%|██████████| 1563/1563 [06:26<00:00,  4.05it/s] \n",
      "epoch: 8 loss: 0.027731385082006454: 100%|██████████| 1563/1563 [06:24<00:00,  4.07it/s] \n",
      "epoch: 9 loss: 0.006718704476952553: 100%|██████████| 1563/1563 [06:26<00:00,  4.05it/s]  \n",
      "epoch: 10 loss: 0.021367600187659264: 100%|██████████| 1563/1563 [06:26<00:00,  4.04it/s] \n",
      "epoch: 11 loss: 0.056647561490535736: 100%|██████████| 1563/1563 [06:28<00:00,  4.03it/s]  \n",
      "epoch: 12 loss: 0.00017462151299696416: 100%|██████████| 1563/1563 [06:29<00:00,  4.02it/s]\n",
      "epoch: 13 loss: 0.00959229376167059: 100%|██████████| 1563/1563 [06:29<00:00,  4.01it/s]   \n",
      "epoch: 14 loss: 0.0004165750870015472: 100%|██████████| 1563/1563 [06:24<00:00,  4.07it/s] \n",
      "epoch: 15 loss: 0.048845626413822174: 100%|██████████| 1563/1563 [06:21<00:00,  4.10it/s]  \n",
      "epoch: 16 loss: 0.0018419810803607106: 100%|██████████| 1563/1563 [06:25<00:00,  4.05it/s] \n",
      "epoch: 17 loss: 0.007904230616986752: 100%|██████████| 1563/1563 [06:19<00:00,  4.12it/s]  \n",
      "epoch: 18 loss: 0.270645409822464: 100%|██████████| 1563/1563 [06:33<00:00,  3.98it/s]     \n",
      "epoch: 19 loss: 0.040745485574007034: 100%|██████████| 1563/1563 [06:38<00:00,  3.93it/s]  \n",
      "epoch: 20 loss: 0.05022495239973068: 100%|██████████| 1563/1563 [06:30<00:00,  4.01it/s]   \n",
      "epoch: 21 loss: 0.0017083297716453671: 100%|██████████| 1563/1563 [06:39<00:00,  3.91it/s] \n",
      "epoch: 22 loss: 0.03446594253182411: 100%|██████████| 1563/1563 [06:27<00:00,  4.03it/s]   \n",
      "epoch: 23 loss: 0.0013063326478004456: 100%|██████████| 1563/1563 [06:26<00:00,  4.05it/s] \n",
      "epoch: 24 loss: 0.0028663768898695707: 100%|██████████| 1563/1563 [06:29<00:00,  4.01it/s] \n",
      "epoch: 25 loss: 0.0754598081111908: 100%|██████████| 1563/1563 [06:28<00:00,  4.02it/s]    \n",
      "epoch: 26 loss: 3.071919854846783e-05: 100%|██████████| 1563/1563 [06:25<00:00,  4.06it/s] \n",
      "epoch: 27 loss: 0.000870746560394764: 100%|██████████| 1563/1563 [06:22<00:00,  4.08it/s]  \n",
      "epoch: 28 loss: 0.0012357827508822083: 100%|██████████| 1563/1563 [06:30<00:00,  4.00it/s] \n",
      "epoch: 29 loss: 0.009275509044528008: 100%|██████████| 1563/1563 [06:34<00:00,  3.96it/s]  \n",
      "epoch: 30 loss: 0.0013153695035725832: 100%|██████████| 1563/1563 [06:37<00:00,  3.93it/s] \n"
     ]
    }
   ],
   "source": [
    "lr = 1e-4\n",
    "optim = Adam(model.parameters(), lr=lr)\n",
    "\n",
    "for epoch in range(30):\n",
    "    iterator = tqdm.tqdm(train_loader)\n",
    "    for data, label in iterator:\n",
    "        optim.zero_grad()\n",
    "\n",
    "        preds = model(data.to(device))\n",
    "\n",
    "        loss = nn.CrossEntropyLoss()(preds, label.to(device))\n",
    "        loss.backward()\n",
    "        optim.step()\n",
    "\n",
    "        iterator.set_description(f'epoch: {epoch+1} loss: {loss.item()}')\n",
    "\n",
    "torch.save(model.state_dict(), 'CIFAR_Pretrained.pth')"
   ],
   "metadata": {
    "collapsed": false
   }
  },
  {
   "cell_type": "code",
   "execution_count": 5,
   "outputs": [
    {
     "name": "stdout",
     "output_type": "stream",
     "text": [
      "Accuracy: 0.9249\n"
     ]
    }
   ],
   "source": [
    "model.load_state_dict(torch.load('CIFAR_Pretrained.pth', map_location=device))\n",
    "\n",
    "num_corr = 0\n",
    "\n",
    "with torch.no_grad():\n",
    "    for data, label in test_loader:\n",
    "        output = model(data.to(device))\n",
    "        preds = output.data.max(1)[1]\n",
    "        corr = preds.eq(label.to(device).data).sum().item()\n",
    "        num_corr += corr\n",
    "\n",
    "    print(f'Accuracy: {num_corr/len(test_data)}')"
   ],
   "metadata": {
    "collapsed": false
   }
  }
 ],
 "metadata": {
  "kernelspec": {
   "display_name": "Python 3",
   "language": "python",
   "name": "python3"
  },
  "language_info": {
   "codemirror_mode": {
    "name": "ipython",
    "version": 2
   },
   "file_extension": ".py",
   "mimetype": "text/x-python",
   "name": "python",
   "nbconvert_exporter": "python",
   "pygments_lexer": "ipython2",
   "version": "2.7.6"
  }
 },
 "nbformat": 4,
 "nbformat_minor": 0
}
