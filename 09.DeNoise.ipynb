{
 "cells": [
  {
   "cell_type": "code",
   "execution_count": 9,
   "metadata": {
    "collapsed": true
   },
   "outputs": [],
   "source": [
    "import matplotlib.pyplot as plt\n",
    "import numpy as np\n",
    "import torch\n",
    "\n",
    "from torchvision.datasets.mnist import MNIST\n",
    "from torchvision.transforms import ToTensor\n",
    "\n",
    "\n",
    "def gaussian_noise(x, scale=0.8):\n",
    "    gaussian_data_x = x + np.random.normal(\n",
    "        loc=0,\n",
    "        scale=scale,\n",
    "        size=x.shape\n",
    "    )\n",
    "    # normalize 0~1\n",
    "    gaussian_data_x = np.clip(gaussian_data_x, 0, 1)\n",
    "    gaussian_data_x = torch.tensor(gaussian_data_x)\n",
    "    gaussian_data_x = gaussian_data_x.type(torch.FloatTensor)\n",
    "    return gaussian_data_x"
   ]
  },
  {
   "cell_type": "code",
   "execution_count": 10,
   "outputs": [
    {
     "name": "stderr",
     "output_type": "stream",
     "text": [
      "C:\\Users\\labadmin\\AppData\\Local\\Temp\\2\\ipykernel_1468\\826725982.py:17: UserWarning: To copy construct from a tensor, it is recommended to use sourceTensor.clone().detach() or sourceTensor.clone().detach().requires_grad_(True), rather than torch.tensor(sourceTensor).\n",
      "  gaussian_data_x = torch.tensor(gaussian_data_x)\n"
     ]
    },
    {
     "data": {
      "text/plain": "<Figure size 640x480 with 2 Axes>",
      "image/png": "[encoded data removed]"
     },
     "metadata": {},
     "output_type": "display_data"
    }
   ],
   "source": [
    "train_data = MNIST(root='./', train=True, download=True, transform=ToTensor())\n",
    "test_data = MNIST(root='./', train=False, download=True, transform=ToTensor())\n",
    "\n",
    "img = train_data.data[0]\n",
    "gaussian = gaussian_noise(img)\n",
    "\n",
    "plt.subplot(1, 2, 1)\n",
    "plt.title('original')\n",
    "plt.imshow(img)\n",
    "plt.subplot(1, 2, 2)\n",
    "plt.title('noisy')\n",
    "plt.imshow(gaussian)\n",
    "plt.show()"
   ],
   "metadata": {
    "collapsed": false
   }
  },
  {
   "cell_type": "code",
   "execution_count": 11,
   "outputs": [],
   "source": [
    "from torch.utils.data.dataset import Dataset\n",
    "\n",
    "\n",
    "class Denoising(Dataset):\n",
    "    def __init__(self):\n",
    "        self.mnist = MNIST(root='./', train=True, download=True, transform=ToTensor())\n",
    "        self.data = []  # noise data\n",
    "\n",
    "        for i in range(len(self.mnist)):\n",
    "            noisy_input = gaussian_noise(self.mnist.data[i])\n",
    "            input_tensor = torch.tensor(noisy_input)\n",
    "            self.data.append(torch.unsqueeze(input_tensor, dim=0))\n",
    "\n",
    "    def __len__(self):\n",
    "        return len(self.data)\n",
    "\n",
    "    def __getitem__(self, i):\n",
    "        data = self.data[i]\n",
    "\n",
    "        label = self.mnist.data[i] / 255\n",
    "\n",
    "        return data, label"
   ],
   "metadata": {
    "collapsed": false
   }
  },
  {
   "cell_type": "code",
   "execution_count": 12,
   "outputs": [],
   "source": [
    "import torch.nn as nn\n",
    "\n",
    "\n",
    "class BasicBlock(nn.Module):\n",
    "    def __init__(self, in_channels, out_channels, hidden_dim):\n",
    "        super(BasicBlock, self).__init__()\n",
    "\n",
    "        self.conv1 = nn.Conv2d(in_channels, hidden_dim, kernel_size=3, padding=1)\n",
    "        self.conv2 = nn.Conv2d(hidden_dim, out_channels, kernel_size=3, padding=1)\n",
    "        self.relu = nn.ReLU()\n",
    "\n",
    "    def forward(self, x):\n",
    "        x = self.conv1(x)\n",
    "        x = self.relu(x)\n",
    "        x = self.conv2(x)\n",
    "        x = self.relu(x)\n",
    "\n",
    "        return x"
   ],
   "metadata": {
    "collapsed": false
   }
  },
  {
   "cell_type": "code",
   "execution_count": 13,
   "outputs": [],
   "source": [
    "class Encoder(nn.Module):\n",
    "    def __init__(self):\n",
    "        super(Encoder, self).__init__()\n",
    "\n",
    "        # 입력 채널 = 1, gray_img\n",
    "        self.conv1 = BasicBlock(in_channels=1, out_channels=16, hidden_dim=16)\n",
    "        self.conv2 = BasicBlock(in_channels=16, out_channels=8, hidden_dim=8)\n",
    "\n",
    "        self.pool = nn.AvgPool2d(kernel_size=2, stride=2)\n",
    "\n",
    "    def forward(self, x):\n",
    "        x = self.conv1(x)\n",
    "        x = self.pool(x)\n",
    "        x = self.conv2(x)\n",
    "        x = self.pool(x)\n",
    "\n",
    "        return x"
   ],
   "metadata": {
    "collapsed": false
   }
  },
  {
   "cell_type": "code",
   "execution_count": 14,
   "outputs": [],
   "source": [
    "class Decoder(nn.Module):\n",
    "    def __init__(self):\n",
    "        super(Decoder, self).__init__()\n",
    "        self.conv1 = BasicBlock(in_channels=8, out_channels=8, hidden_dim=8)\n",
    "        self.conv2 = BasicBlock(in_channels=8, out_channels=16, hidden_dim=16)\n",
    "\n",
    "        self.conv3 = nn.Conv2d(in_channels=16, out_channels=1, kernel_size=3, padding=1)\n",
    "\n",
    "        self.upsample1 = nn.ConvTranspose2d(8, 8, kernel_size=2, stride=2)\n",
    "        self.upsample2 = nn.ConvTranspose2d(16, 16, kernel_size=2, stride=2)\n",
    "\n",
    "    def forward(self, x):\n",
    "        x = self.conv1(x)\n",
    "        x = self.upsample1(x)\n",
    "        x = self.conv2(x)\n",
    "        x = self.upsample2(x)\n",
    "        x = self.conv3(x)\n",
    "\n",
    "        return x"
   ],
   "metadata": {
    "collapsed": false
   }
  },
  {
   "cell_type": "code",
   "execution_count": 15,
   "outputs": [],
   "source": [
    "class CAE(nn.Module):\n",
    "    def __init__(self):\n",
    "        super(CAE, self).__init__()\n",
    "\n",
    "        self.enc = Encoder()\n",
    "        self.dec = Decoder()\n",
    "\n",
    "    def forward(self, x):\n",
    "        x = self.enc(x)\n",
    "        x = self.dec(x)\n",
    "        x = torch.squeeze(x)\n",
    "\n",
    "        return x"
   ],
   "metadata": {
    "collapsed": false
   }
  },
  {
   "cell_type": "code",
   "execution_count": null,
   "outputs": [
    {
     "name": "stderr",
     "output_type": "stream",
     "text": [
      "C:\\Users\\labadmin\\AppData\\Local\\Temp\\2\\ipykernel_1468\\826725982.py:17: UserWarning: To copy construct from a tensor, it is recommended to use sourceTensor.clone().detach() or sourceTensor.clone().detach().requires_grad_(True), rather than torch.tensor(sourceTensor).\n",
      "  gaussian_data_x = torch.tensor(gaussian_data_x)\n",
      "C:\\Users\\labadmin\\AppData\\Local\\Temp\\2\\ipykernel_1468\\4057901692.py:11: UserWarning: To copy construct from a tensor, it is recommended to use sourceTensor.clone().detach() or sourceTensor.clone().detach().requires_grad_(True), rather than torch.tensor(sourceTensor).\n",
      "  input_tensor = torch.tensor(noisy_input)\n",
      "epoch: 1 loss: 0.013462413102388382: 100%|██████████| 1875/1875 [00:26<00:00, 70.88it/s]\n",
      "epoch: 2 loss: 0.011084207333624363: 100%|██████████| 1875/1875 [00:22<00:00, 82.95it/s] \n",
      "epoch: 3 loss: 0.01072882954031229: 100%|██████████| 1875/1875 [00:22<00:00, 84.76it/s]  \n",
      "epoch: 4 loss: 0.010308167897164822: 100%|██████████| 1875/1875 [00:22<00:00, 84.11it/s] \n",
      "epoch: 5 loss: 0.010234396904706955: 100%|██████████| 1875/1875 [00:22<00:00, 83.97it/s] \n",
      "epoch: 6 loss: 0.009974091313779354: 100%|██████████| 1875/1875 [00:22<00:00, 83.57it/s] \n",
      "epoch: 7 loss: 0.008948204107582569: 100%|██████████| 1875/1875 [00:22<00:00, 82.73it/s] \n",
      "epoch: 8 loss: 0.008329709060490131: 100%|██████████| 1875/1875 [00:22<00:00, 82.83it/s] \n",
      "epoch: 9 loss: 0.008144310675561428: 100%|██████████| 1875/1875 [00:23<00:00, 80.57it/s] \n",
      "epoch: 10 loss: 0.007918322458863258: 100%|██████████| 1875/1875 [00:22<00:00, 83.40it/s] \n",
      "epoch: 11 loss: 0.007811264600604773: 100%|██████████| 1875/1875 [00:22<00:00, 83.70it/s] \n",
      "epoch: 12 loss: 0.007735112216323614: 100%|██████████| 1875/1875 [00:21<00:00, 85.53it/s] \n",
      "epoch: 13 loss: 0.007702498231083155: 100%|██████████| 1875/1875 [00:22<00:00, 85.04it/s] \n",
      "epoch: 14 loss: 0.007557976990938187: 100%|██████████| 1875/1875 [00:22<00:00, 82.63it/s] \n",
      "epoch: 15 loss: 0.007550214882940054: 100%|██████████| 1875/1875 [00:23<00:00, 81.34it/s] \n",
      "epoch: 16 loss: 0.007521708961576223: 100%|██████████| 1875/1875 [00:22<00:00, 81.63it/s] \n",
      "epoch: 17 loss: 0.007550142239779234: 100%|██████████| 1875/1875 [00:22<00:00, 81.85it/s] \n",
      "epoch: 18 loss: 0.007483355700969696: 100%|██████████| 1875/1875 [00:23<00:00, 81.19it/s] \n",
      "epoch: 19 loss: 0.007532535120844841: 100%|██████████| 1875/1875 [00:23<00:00, 81.44it/s] \n",
      "epoch: 20 loss: 0.007531760726124048: 100%|██████████| 1875/1875 [00:22<00:00, 81.69it/s] \n"
     ]
    }
   ],
   "source": [
    "import tqdm\n",
    "\n",
    "from torch.utils.data.dataloader import DataLoader\n",
    "from torch.optim.adam import Adam\n",
    "\n",
    "device = 'cuda' if torch.cuda.is_available() else 'cpu'\n",
    "\n",
    "trainset = Denoising()\n",
    "train_loader = DataLoader(trainset, batch_size=32)\n",
    "\n",
    "model = CAE().to(device)\n",
    "\n",
    "lr = 0.001\n",
    "optim = Adam(params=model.parameters(), lr=lr)\n",
    "\n",
    "for epoch in range(20):\n",
    "    iterator = tqdm.tqdm(train_loader)\n",
    "    for data, label in iterator:\n",
    "        optim.zero_grad()\n",
    "        pred = model(data.to(device))\n",
    "\n",
    "        loss = nn.MSELoss()(torch.squeeze(pred), label.to(device))\n",
    "        loss.backward()\n",
    "        optim.step()\n",
    "        iterator.set_description(f'epoch: {epoch+1} loss: {loss.item()}')\n",
    "torch.save(model.state_dict(), './CAE.pth')"
   ],
   "metadata": {
    "collapsed": false,
    "pycharm": {
     "is_executing": true
    }
   }
  },
  {
   "cell_type": "code",
   "execution_count": 17,
   "outputs": [
    {
     "name": "stderr",
     "output_type": "stream",
     "text": [
      "C:\\Users\\labadmin\\AppData\\Local\\Temp\\2\\ipykernel_1468\\826725982.py:17: UserWarning: To copy construct from a tensor, it is recommended to use sourceTensor.clone().detach() or sourceTensor.clone().detach().requires_grad_(True), rather than torch.tensor(sourceTensor).\n",
      "  gaussian_data_x = torch.tensor(gaussian_data_x)\n"
     ]
    },
    {
     "data": {
      "text/plain": "<Figure size 640x480 with 3 Axes>",
      "image/png": "[encoded data removed]"
     },
     "metadata": {},
     "output_type": "display_data"
    }
   ],
   "source": [
    "model.cpu()\n",
    "\n",
    "with torch.no_grad():\n",
    "    model.load_state_dict(torch.load('./CAE.pth', map_location=device))\n",
    "\n",
    "    img = test_data.data[0]\n",
    "    gaussian = gaussian_noise(img)\n",
    "\n",
    "    input = torch.unsqueeze(gaussian, dim=0)\n",
    "    input.type(torch.FloatTensor)\n",
    "    input.to(device)\n",
    "    input = torch.unsqueeze(input, dim=0)\n",
    "\n",
    "    plt.subplot(1,3,1)\n",
    "    plt.imshow(torch.squeeze(gaussian))\n",
    "    plt.subplot(1,3,2)\n",
    "    plt.imshow(torch.squeeze(model(input)))\n",
    "    plt.subplot(1,3,3)\n",
    "    plt.imshow(torch.squeeze(img))\n",
    "    plt.show()"
   ],
   "metadata": {
    "collapsed": false
   }
  },
  {
   "cell_type": "code",
   "execution_count": null,
   "outputs": [],
   "source": [],
   "metadata": {
    "collapsed": false
   }
  }
 ],
 "metadata": {
  "kernelspec": {
   "display_name": "Python 3",
   "language": "python",
   "name": "python3"
  },
  "language_info": {
   "codemirror_mode": {
    "name": "ipython",
    "version": 2
   },
   "file_extension": ".py",
   "mimetype": "text/x-python",
   "name": "python",
   "nbconvert_exporter": "python",
   "pygments_lexer": "ipython2",
   "version": "2.7.6"
  }
 },
 "nbformat": 4,
 "nbformat_minor": 0
}
